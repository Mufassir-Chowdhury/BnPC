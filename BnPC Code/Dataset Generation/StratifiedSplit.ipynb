{
 "cells": [
  {
   "cell_type": "markdown",
   "metadata": {},
   "source": [
    "## Stratified Splitting of Paraphrase Dataset"
   ]
  },
  {
   "cell_type": "code",
   "execution_count": 3,
   "metadata": {},
   "outputs": [],
   "source": [
    "import pandas as pd\n",
    "import numpy as np\n",
    "from sklearn.model_selection import train_test_split\n",
    "import os"
   ]
  },
  {
   "cell_type": "markdown",
   "metadata": {},
   "source": [
    "### Importing Dataset\n",
    "There were 4 types of news headline"
   ]
  },
  {
   "cell_type": "code",
   "execution_count": 8,
   "metadata": {},
   "outputs": [],
   "source": [
    "dataset_filenames = [\"bangladesh.csv\", \"entertainment.csv\", \"sports.csv\", \"world.csv\"]\n",
    "data_path = \"../../data\"\n",
    "datasets = []\n",
    "\n",
    "for filename in dataset_filenames:\n",
    "    dataset_path = os.path.join(data_path, filename)\n",
    "    dataset = pd.read_csv(dataset_path)[[\"sentence1\", \"sentence2\", \"label\"]]\n",
    "    dataset['topic'] = filename.split('.')[0]\n",
    "    dataset = dataset.dropna()\n",
    "    datasets.append(dataset)"
   ]
  },
  {
   "cell_type": "markdown",
   "metadata": {},
   "source": [
    "### Splitting The Datasets\n",
    "Here we splitted the dataset with the similar ratio of paraphrase, not paraphrase. As well as the ratio of headline from different type is also similar.\n",
    "\n",
    "Splitting ratio:\n",
    "- Train: 70%\n",
    "- Test: 15%\n",
    "- Val: 15%"
   ]
  },
  {
   "cell_type": "code",
   "execution_count": 10,
   "metadata": {},
   "outputs": [],
   "source": [
    "train, val = [], []\n",
    "\n",
    "for dataset in datasets:\n",
    "    X = dataset[[\"sentence1\", \"sentence2\", \"topic\"]]\n",
    "    y = dataset[[\"label\"]]\n",
    "    \n",
    "    X_train, X_val, y_train, y_val = train_test_split(X, y,\n",
    "                                                        stratify=y, \n",
    "                                                        test_size=0.2)\n",
    "    \n",
    "    X_train[\"label\"] = y_train[\"label\"].astype(int)\n",
    "    X_val[\"label\"] = y_val[\"label\"].astype(int)\n",
    "    \n",
    "    train.append(X_train)\n",
    "    val.append(X_val)"
   ]
  },
  {
   "cell_type": "markdown",
   "metadata": {},
   "source": [
    "### Combining Different Types of Headlines"
   ]
  },
  {
   "cell_type": "code",
   "execution_count": 13,
   "metadata": {},
   "outputs": [
    {
     "output_type": "stream",
     "name": "stdout",
     "text": [
      "(5913, 4) (1480, 4)\n"
     ]
    }
   ],
   "source": [
    "train_df = pd.concat(train, ignore_index=True)\n",
    "val_df = pd.concat(val, ignore_index=True)\n",
    "print(train_df.shape, val_df.shape)"
   ]
  },
  {
   "cell_type": "markdown",
   "metadata": {},
   "source": [
    "### Save Dataframe to CSV Files\n",
    "File will be saved in the root directory"
   ]
  },
  {
   "cell_type": "code",
   "execution_count": 15,
   "metadata": {},
   "outputs": [],
   "source": [
    "train_df.to_csv('train.csv', index=False)\n",
    "val_df.to_csv('val.csv', index=False)"
   ]
  },
  {
   "cell_type": "code",
   "execution_count": 36,
   "metadata": {},
   "outputs": [
    {
     "output_type": "execute_result",
     "data": {
      "text/plain": [
       "(1480, 4)"
      ]
     },
     "metadata": {},
     "execution_count": 36
    }
   ],
   "source": [
    "para_train_df = val_df[val_df['label']==0]\n",
    "\n",
    "topicwise = para_train_df[para_train_df['topic']=='entertainment']\n",
    "\n",
    "topicwise.shape"
   ]
  }
 ],
 "metadata": {
  "kernelspec": {
   "display_name": "Python 3",
   "language": "python",
   "name": "python3"
  },
  "language_info": {
   "codemirror_mode": {
    "name": "ipython",
    "version": 3
   },
   "file_extension": ".py",
   "mimetype": "text/x-python",
   "name": "python",
   "nbconvert_exporter": "python",
   "pygments_lexer": "ipython3",
   "version": "3.9.2-final"
  }
 },
 "nbformat": 4,
 "nbformat_minor": 4
}