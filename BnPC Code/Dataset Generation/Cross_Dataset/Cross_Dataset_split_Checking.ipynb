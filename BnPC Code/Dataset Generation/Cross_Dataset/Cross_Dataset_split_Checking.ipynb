{
  "nbformat": 4,
  "nbformat_minor": 0,
  "metadata": {
    "colab": {
      "provenance": []
    },
    "kernelspec": {
      "name": "python3",
      "display_name": "Python 3"
    },
    "language_info": {
      "name": "python"
    }
  },
  "cells": [
    {
      "cell_type": "code",
      "execution_count": null,
      "metadata": {
        "id": "97aemrXG3teJ"
      },
      "outputs": [],
      "source": [
        "import pandas as pd\n"
      ]
    },
    {
      "cell_type": "code",
      "source": [
        "# Load the \"tapaco_test\" and \"bnpc_test\" datasets into DataFrames\n",
        "tapaco_test = pd.read_csv('tapaco_test.csv')    # Replace with the actual file path of tapaco_test dataset\n",
        "bnpc_test = pd.read_csv('BnPC_test.csv')        # Replace with the actual file path of BnPC_test dataset\n"
      ],
      "metadata": {
        "id": "GLgVItId3z9h"
      },
      "execution_count": null,
      "outputs": []
    },
    {
      "cell_type": "code",
      "source": [
        "# Filter \"tapaco_test\" for label 0 samples\n",
        "tapaco_test_label_0 = tapaco_test[tapaco_test['label'] == 0]  # Replace 'label_column_name' with the actual label column name\n",
        "\n",
        "# Filter \"bnpc_test\" for label 0 samples\n",
        "bnpc_test_label_0 = bnpc_test[bnpc_test['label'] == 0]  # Replace 'label_column_name' with the actual label column name\n",
        "\n",
        "# Check if all label 0 samples in \"tapaco_test\" exist in \"BnPC_test\"\n",
        "all_okay = tapaco_test_label_0.isin(bnpc_test_label_0.to_dict(orient='list')).all(axis=1).all()\n",
        "\n",
        "if all_okay:\n",
        "    print(\"ALL OKAY\")\n",
        "else:\n",
        "    print(\"Label 0 samples in tapaco_test that do not exist in BnPC_test:\")\n",
        "    print(tapaco_test_label_0[~tapaco_test_label_0.isin(bnpc_test_label_0.to_dict(orient='list')).all(axis=1)])"
      ],
      "metadata": {
        "colab": {
          "base_uri": "https://localhost:8080/"
        },
        "id": "z8ZpPLaU3zV7",
        "outputId": "56a92ab7-7305-4d89-a02b-92c425af4c58"
      },
      "execution_count": null,
      "outputs": [
        {
          "output_type": "stream",
          "name": "stdout",
          "text": [
            "ALL OKAY\n"
          ]
        }
      ]
    },
    {
      "cell_type": "code",
      "source": [
        "# Load the \"tapaco_test\" and \"bnpc_test\" datasets into DataFrames\n",
        "tapaco_train = pd.read_csv('tapaco_train.csv')    # Replace with the actual file path of tapaco_test dataset\n",
        "bnpc_train = pd.read_csv('BnPC_train.csv')        # Replace with the actual file path of BnPC_test dataset"
      ],
      "metadata": {
        "id": "H4hSVgo24cv3"
      },
      "execution_count": null,
      "outputs": []
    },
    {
      "cell_type": "code",
      "source": [
        "# Filter \"tapaco_test\" for label 0 samples\n",
        "tapaco_test_label_0 = tapaco_train[tapaco_train['label'] == 0]  # Replace 'label_column_name' with the actual label column name\n",
        "\n",
        "# Filter \"bnpc_test\" for label 0 samples\n",
        "bnpc_test_label_0 = bnpc_train[bnpc_train['label'] == 0]  # Replace 'label_column_name' with the actual label column name\n",
        "\n",
        "# Check if the label 0 samples match\n",
        "if tapaco_test_label_0.equals(bnpc_test_label_0):\n",
        "    print(\"All OKAY\")\n",
        "else:\n",
        "    print(\"Label 0 samples do not match between tapaco_test and bnpc_test.\")"
      ],
      "metadata": {
        "colab": {
          "base_uri": "https://localhost:8080/"
        },
        "id": "Z5qUa0UF4IqZ",
        "outputId": "6a10da0b-8db7-497b-be26-c85a660e10f4"
      },
      "execution_count": null,
      "outputs": [
        {
          "output_type": "stream",
          "name": "stdout",
          "text": [
            "Label 0 samples do not match between tapaco_test and bnpc_test.\n"
          ]
        }
      ]
    },
    {
      "cell_type": "code",
      "source": [],
      "metadata": {
        "id": "2Wt59pvk4foY"
      },
      "execution_count": null,
      "outputs": []
    }
  ]
}