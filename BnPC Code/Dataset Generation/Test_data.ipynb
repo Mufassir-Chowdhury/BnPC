{
 "metadata": {
  "language_info": {
   "codemirror_mode": {
    "name": "ipython",
    "version": 3
   },
   "file_extension": ".py",
   "mimetype": "text/x-python",
   "name": "python",
   "nbconvert_exporter": "python",
   "pygments_lexer": "ipython3",
   "version": "3.9.2-final"
  },
  "orig_nbformat": 2,
  "kernelspec": {
   "name": "python39264bit561b41c15a9e44b4a0df77e7d167e348",
   "display_name": "Python 3.9.2 64-bit"
  }
 },
 "nbformat": 4,
 "nbformat_minor": 2,
 "cells": [
  {
   "cell_type": "code",
   "execution_count": 1,
   "metadata": {},
   "outputs": [],
   "source": [
    "import pandas as pd\n",
    "import numpy as np\n",
    "import os"
   ]
  },
  {
   "cell_type": "code",
   "execution_count": 19,
   "metadata": {},
   "outputs": [],
   "source": [
    "dataset_filenames = [\"bangladesh_test.csv\", \"entertainment_test.csv\", \"sports_test.csv\", \"world_test.csv\"]\n",
    "data_path = \"../../data\"\n",
    "datasets = []\n",
    "\n",
    "for filename in dataset_filenames:\n",
    "    dataset_path = os.path.join(data_path, filename)\n",
    "    dataset = pd.read_csv(dataset_path)[[\"sentence1\", \"sentence2\", \"label\"]]\n",
    "    dataset['topic'] = filename.split('_')[0]\n",
    "    dataset = dataset.dropna()\n",
    "    dataset['label'] = dataset['label'].astype(int)\n",
    "    datasets.append(dataset)"
   ]
  },
  {
   "cell_type": "code",
   "execution_count": 20,
   "metadata": {},
   "outputs": [
    {
     "output_type": "execute_result",
     "data": {
      "text/plain": [
       "                                             sentence1  \\\n",
       "0        ৪২তম বিশেষ বিসিএস পরীক্ষায় ৩৪৫৩ জন অনুপস্থিত   \n",
       "1        ৪২তম বিশেষ বিসিএস পরীক্ষায় ৩৪৫৩ জন অনুপস্থিত   \n",
       "2        ৪২তম বিশেষ বিসিএস পরীক্ষায় ৩৪৫৩ জন অনুপস্থিত   \n",
       "3        ৪২তম বিশেষ বিসিএস পরীক্ষায় ৩৪৫৩ জন অনুপস্থিত   \n",
       "4        ৪২তম বিশেষ বিসিএস পরীক্ষায় ৩৪৫৩ জন অনুপস্থিত   \n",
       "..                                                 ...   \n",
       "416  মিয়ানমারের সোয়া ৪ কোটি ডলারের সহায়তা প্রত্য...   \n",
       "418  মিয়ানমারের সোয়া ৪ কোটি ডলারের সহায়তা প্রত্য...   \n",
       "419  মিয়ানমারের জন্য বরাদ্দকৃত ৩৫০ কোটি টাকা আটকে ...   \n",
       "420  মিয়ানমারের জন্য বরাদ্দকৃত ৩৫০ কোটি টাকা আটকে ...   \n",
       "421  মিয়ানমারের আর্থিক সহায়তা সরিয়ে নিচ্ছে ইউএসএ...   \n",
       "\n",
       "                                             sentence2  label       topic  \n",
       "0           ৪২তম বিশেষ বিসিএসে অংশ নিলেন ৮৯% আবেদনকারী      1  bangladesh  \n",
       "1    ৪২তম বিশেষ বিসিএসের প্রিলিমিনারি পরীক্ষা অনুষ্ঠিত      0  bangladesh  \n",
       "2            ৪২তম বিসিএসের প্রিলিমিনারি পরীক্ষা বিকেলে      0  bangladesh  \n",
       "3                ৪২তম বিসিএসের প্রিলিমিনারি পরীক্ষা আজ      0  bangladesh  \n",
       "4    মহামারীর মধ্যে প্রথম বিসিএসে বসছে চাকরিপ্রত্যা...      0  bangladesh  \n",
       "..                                                 ...    ...         ...  \n",
       "416  মিয়ানমারের জন্য বরাদ্দকৃত ৩৫০ কোটি টাকা আটকে ...      0       world  \n",
       "418  মিয়ানমারের সোয়া ৪ কোটি ডলারের সহায়তা সরিয়ে নিচ...      1       world  \n",
       "419  মিয়ানমারের আর্থিক সহায়তা সরিয়ে নিচ্ছে ইউএসএ...      0       world  \n",
       "420  মিয়ানমারের সোয়া ৪ কোটি ডলারের সহায়তা সরিয়ে নিচ...      0       world  \n",
       "421  মিয়ানমারের সোয়া ৪ কোটি ডলারের সহায়তা সরিয়ে নিচ...      1       world  \n",
       "\n",
       "[1394 rows x 4 columns]"
      ],
      "text/html": "<div>\n<style scoped>\n    .dataframe tbody tr th:only-of-type {\n        vertical-align: middle;\n    }\n\n    .dataframe tbody tr th {\n        vertical-align: top;\n    }\n\n    .dataframe thead th {\n        text-align: right;\n    }\n</style>\n<table border=\"1\" class=\"dataframe\">\n  <thead>\n    <tr style=\"text-align: right;\">\n      <th></th>\n      <th>sentence1</th>\n      <th>sentence2</th>\n      <th>label</th>\n      <th>topic</th>\n    </tr>\n  </thead>\n  <tbody>\n    <tr>\n      <th>0</th>\n      <td>৪২তম বিশেষ বিসিএস পরীক্ষায় ৩৪৫৩ জন অনুপস্থিত</td>\n      <td>৪২তম বিশেষ বিসিএসে অংশ নিলেন ৮৯% আবেদনকারী</td>\n      <td>1</td>\n      <td>bangladesh</td>\n    </tr>\n    <tr>\n      <th>1</th>\n      <td>৪২তম বিশেষ বিসিএস পরীক্ষায় ৩৪৫৩ জন অনুপস্থিত</td>\n      <td>৪২তম বিশেষ বিসিএসের প্রিলিমিনারি পরীক্ষা অনুষ্ঠিত</td>\n      <td>0</td>\n      <td>bangladesh</td>\n    </tr>\n    <tr>\n      <th>2</th>\n      <td>৪২তম বিশেষ বিসিএস পরীক্ষায় ৩৪৫৩ জন অনুপস্থিত</td>\n      <td>৪২তম বিসিএসের প্রিলিমিনারি পরীক্ষা বিকেলে</td>\n      <td>0</td>\n      <td>bangladesh</td>\n    </tr>\n    <tr>\n      <th>3</th>\n      <td>৪২তম বিশেষ বিসিএস পরীক্ষায় ৩৪৫৩ জন অনুপস্থিত</td>\n      <td>৪২তম বিসিএসের প্রিলিমিনারি পরীক্ষা আজ</td>\n      <td>0</td>\n      <td>bangladesh</td>\n    </tr>\n    <tr>\n      <th>4</th>\n      <td>৪২তম বিশেষ বিসিএস পরীক্ষায় ৩৪৫৩ জন অনুপস্থিত</td>\n      <td>মহামারীর মধ্যে প্রথম বিসিএসে বসছে চাকরিপ্রত্যা...</td>\n      <td>0</td>\n      <td>bangladesh</td>\n    </tr>\n    <tr>\n      <th>...</th>\n      <td>...</td>\n      <td>...</td>\n      <td>...</td>\n      <td>...</td>\n    </tr>\n    <tr>\n      <th>416</th>\n      <td>মিয়ানমারের সোয়া ৪ কোটি ডলারের সহায়তা প্রত্য...</td>\n      <td>মিয়ানমারের জন্য বরাদ্দকৃত ৩৫০ কোটি টাকা আটকে ...</td>\n      <td>0</td>\n      <td>world</td>\n    </tr>\n    <tr>\n      <th>418</th>\n      <td>মিয়ানমারের সোয়া ৪ কোটি ডলারের সহায়তা প্রত্য...</td>\n      <td>মিয়ানমারের সোয়া ৪ কোটি ডলারের সহায়তা সরিয়ে নিচ...</td>\n      <td>1</td>\n      <td>world</td>\n    </tr>\n    <tr>\n      <th>419</th>\n      <td>মিয়ানমারের জন্য বরাদ্দকৃত ৩৫০ কোটি টাকা আটকে ...</td>\n      <td>মিয়ানমারের আর্থিক সহায়তা সরিয়ে নিচ্ছে ইউএসএ...</td>\n      <td>0</td>\n      <td>world</td>\n    </tr>\n    <tr>\n      <th>420</th>\n      <td>মিয়ানমারের জন্য বরাদ্দকৃত ৩৫০ কোটি টাকা আটকে ...</td>\n      <td>মিয়ানমারের সোয়া ৪ কোটি ডলারের সহায়তা সরিয়ে নিচ...</td>\n      <td>0</td>\n      <td>world</td>\n    </tr>\n    <tr>\n      <th>421</th>\n      <td>মিয়ানমারের আর্থিক সহায়তা সরিয়ে নিচ্ছে ইউএসএ...</td>\n      <td>মিয়ানমারের সোয়া ৪ কোটি ডলারের সহায়তা সরিয়ে নিচ...</td>\n      <td>1</td>\n      <td>world</td>\n    </tr>\n  </tbody>\n</table>\n<p>1394 rows × 4 columns</p>\n</div>"
     },
     "metadata": {},
     "execution_count": 20
    }
   ],
   "source": [
    "test_df = pd.concat(datasets)\n",
    "test_df"
   ]
  },
  {
   "cell_type": "code",
   "execution_count": 21,
   "metadata": {},
   "outputs": [
    {
     "output_type": "stream",
     "name": "stdout",
     "text": [
      "Paraphrase (160, 4) bangladesh\nNon Para   (323, 4) bangladesh\nParaphrase (148, 4) entertainment\nNon Para   (112, 4) entertainment\nParaphrase (36, 4) sports\nNon Para   (213, 4) sports\nParaphrase (227, 4) world\nNon Para   (175, 4) world\n"
     ]
    }
   ],
   "source": [
    "for topic_full in [\"bangladesh_test.csv\", \"entertainment_test.csv\", \"sports_test.csv\", \"world_test.csv\"]:\n",
    "    topic = topic_full.split('_')[0]\n",
    "\n",
    "    para_df = test_df[test_df['label']==1]\n",
    "    non_df = test_df[test_df['label']==0]\n",
    "\n",
    "    print(\"Paraphrase\", para_df[para_df['topic']==topic].shape, topic, )\n",
    "    print(\"Non Para  \", non_df[non_df['topic']==topic].shape, topic, )"
   ]
  },
  {
   "cell_type": "code",
   "execution_count": 23,
   "metadata": {},
   "outputs": [],
   "source": [
    "test_df[[\"sentence1\", \"sentence2\", \"topic\", \"label\"]].to_csv('test.csv', index=False)"
   ]
  },
  {
   "cell_type": "code",
   "execution_count": null,
   "metadata": {},
   "outputs": [],
   "source": []
  }
 ]
}