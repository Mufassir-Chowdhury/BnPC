{
  "cells": [
    {
      "cell_type": "code",
      "execution_count": null,
      "metadata": {
        "id": "aUp8MrbDjOoz"
      },
      "outputs": [],
      "source": [
        "import pandas as pd"
      ]
    },
    {
      "cell_type": "code",
      "execution_count": null,
      "metadata": {
        "id": "3veF1H24nHa7"
      },
      "outputs": [],
      "source": [
        "# Read the CSV file into a pandas DataFrame\n",
        "df = pd.read_csv('BnPC_train.csv')\n"
      ]
    },
    {
      "cell_type": "code",
      "execution_count": null,
      "metadata": {
        "id": "7X-qIgo2nHrO"
      },
      "outputs": [],
      "source": [
        "# Initialize counters for labels 0 and 1\n",
        "label_0_count = 0\n",
        "label_1_count = 0\n",
        "\n",
        "# Iterate through each row in the DataFrame\n",
        "for index, row in df.iterrows():\n",
        "    label = row['label']  # Replace 'label_column_name' with the actual name of your label column\n",
        "    if label == 0:\n",
        "        label_0_count += 1\n",
        "    elif label == 1:\n",
        "        label_1_count += 1\n"
      ]
    },
    {
      "cell_type": "code",
      "execution_count": null,
      "metadata": {
        "colab": {
          "base_uri": "https://localhost:8080/"
        },
        "id": "eeigLkfPoEHn",
        "outputId": "df3cecf5-fa80-449f-e32c-e41bc15242af"
      },
      "outputs": [
        {
          "name": "stdout",
          "output_type": "stream",
          "text": [
            "Number of pairs with label 0: 3666\n",
            "Number of pairs with label 1: 2253\n",
            "Percentage of label 0 data: 61.94%\n",
            "Percentage of label 1 data: 38.06%\n"
          ]
        }
      ],
      "source": [
        "# Calculate the total number of rows\n",
        "total_count = len(df)\n",
        "\n",
        "# Calculate the percentages\n",
        "percentage_label_0 = (label_0_count / total_count) * 100\n",
        "percentage_label_1 = (label_1_count / total_count) * 100\n",
        "\n",
        "# Print the counts and percentages\n",
        "print(\"Number of pairs with label 0:\", label_0_count)\n",
        "print(\"Number of pairs with label 1:\", label_1_count)\n",
        "print(\"Percentage of label 0 data: {:.2f}%\".format(percentage_label_0))\n",
        "print(\"Percentage of label 1 data: {:.2f}%\".format(percentage_label_1))"
      ]
    },
    {
      "cell_type": "markdown",
      "metadata": {
        "id": "yU3OznFvQ-7V"
      },
      "source": [
        "```\n",
        "BnPC Whole:     3,426 ; 38.99% Para\n",
        "                5,361 ; 61.01% Non Para\n",
        "\n",
        "\n",
        "BnPC Test:       Total: 1394\n",
        "                 Number of pairs with label 0: 823, Total% 9.37%, nonpara% 15.35%\n",
        "                 Number of pairs with label 1: 571, Total% 6.50%, para% 16.67%\n",
        "                 Percentage of label 0 data: 59.04%\n",
        "                 Percentage of label 1 data: 40.96%\n",
        "\n",
        "BnPC Train:      Total: 5919\n",
        "                 Number of pairs with label 0: 3666, 41.72%, nonpara% 68.38%\n",
        "                 Number of pairs with label 1: 2253, 25.64%, para% 65.76%\n",
        "                 Percentage of label 0 data: 61.94%\n",
        "                 Percentage of label 1 data: 38.06%\n",
        "\n",
        "BnPC Validation: Total: 1474\n",
        "                 Number of pairs with label 0: 872, 9.92%, nonpara% 16.27%\n",
        "                 Number of pairs with label 1: 602, 6.85%, para% 17.57%\n",
        "                 Percentage of label 0 data: 59.16%\n",
        "                 Percentage of label 1 data: 40.84%\n",
        "\n",
        "```"
      ]
    },
    {
      "cell_type": "code",
      "execution_count": null,
      "metadata": {
        "id": "jwjdTR-pnOeS"
      },
      "outputs": [],
      "source": []
    },
    {
      "cell_type": "markdown",
      "metadata": {
        "id": "Cs5lYzLn_51r"
      },
      "source": [
        "### Tapaco\n",
        "\n"
      ]
    },
    {
      "cell_type": "code",
      "execution_count": null,
      "metadata": {
        "id": "BFHLMsl1tjST"
      },
      "outputs": [],
      "source": [
        "# Para 2020\n",
        "# Non Para 3161"
      ]
    },
    {
      "cell_type": "code",
      "execution_count": null,
      "metadata": {
        "id": "MNSqH3h9vMfQ"
      },
      "outputs": [],
      "source": [
        "bnpc_train = pd.read_csv('BnPC_train.csv')\n",
        "bnpc_val = pd.read_csv('BnPC_val.csv')\n",
        "bnpc_test = pd.read_csv('BnPC_test.csv')\n",
        "tapaco = pd.read_csv('TaPaCo.csv')"
      ]
    },
    {
      "cell_type": "code",
      "execution_count": null,
      "metadata": {
        "id": "YzVN3kCCvXdE"
      },
      "outputs": [],
      "source": [
        "# Filter BnPC_test dataset for label 0 samples\n",
        "bnpc_label_0 = bnpc_test[bnpc_test['label'] == 0]  # Replace 'label_column_name' with the actual label column name\n",
        "\n",
        "# Check if there are enough label 0 samples for selection\n",
        "if len(bnpc_label_0) < 485:\n",
        "    raise ValueError(\"Not enough label 0 samples in BnPC_test dataset.\")\n",
        "\n",
        "# Randomly select 485 samples from BnPC_test dataset\n",
        "selected_bnpc_samples = bnpc_label_0.sample(n=485, random_state=42)\n",
        "\n",
        "# Randomly select 337 samples from TaPaCo dataset\n",
        "selected_tapaco_samples = tapaco.sample(n=337, random_state=42)\n"
      ]
    },
    {
      "cell_type": "code",
      "execution_count": null,
      "metadata": {
        "id": "f_KU3NixwnjH"
      },
      "outputs": [],
      "source": [
        "# Create the new \"tapaco_test\" dataset by concatenating the selected samples\n",
        "tapaco_test = pd.concat([selected_tapaco_samples, selected_bnpc_samples])"
      ]
    },
    {
      "cell_type": "code",
      "execution_count": null,
      "metadata": {
        "id": "3Qk5O9UDwkcN"
      },
      "outputs": [],
      "source": [
        "# Remove the selected samples from both datasets\n",
        "bnpc_test = bnpc_test.drop(selected_bnpc_samples.index)\n",
        "tapaco = tapaco.drop(selected_tapaco_samples.index)"
      ]
    },
    {
      "cell_type": "code",
      "execution_count": null,
      "metadata": {
        "id": "6ez0rKS8wjyf"
      },
      "outputs": [],
      "source": [
        "# Save the new \"tapaco_test\" dataset and updated versions of BnPC_test and TaPaCo datasets\n",
        "tapaco_test.to_csv('tapaco_test.csv', index=False)  # Save tapaco_test dataset\n",
        "bnpc_test.to_csv('updated_BnPC_test.csv', index=False)  # Save updated BnPC_test dataset\n",
        "tapaco.to_csv('updated_TaPaCo.csv', index=False)  # Save updated TaPaCo dataset"
      ]
    },
    {
      "cell_type": "code",
      "execution_count": null,
      "metadata": {
        "id": "gCgfNuc-w8dn"
      },
      "outputs": [],
      "source": [
        "bnpc_train = pd.read_csv('BnPC_train.csv')\n",
        "tapaco = pd.read_csv('updated_TaPaCo.csv')"
      ]
    },
    {
      "cell_type": "code",
      "execution_count": null,
      "metadata": {
        "id": "WLoleGQOxY8o"
      },
      "outputs": [],
      "source": [
        "# Filter BnPC_test dataset for label 0 samples\n",
        "bnpc_label_0 = bnpc_train[bnpc_train['label'] == 0]  # Replace 'label_column_name' with the actual label column name\n",
        "\n",
        "# Check if there are enough label 0 samples for selection\n",
        "if len(bnpc_label_0) < 2162:\n",
        "    raise ValueError(\"Not enough label 0 samples in BnPC_test dataset.\")\n",
        "\n",
        "# Randomly select 485 samples from BnPC_test dataset\n",
        "selected_bnpc_samples = bnpc_label_0.sample(n=2162, random_state=42)\n",
        "\n",
        "# Randomly select 337 samples from TaPaCo dataset\n",
        "selected_tapaco_samples = tapaco.sample(n=1328, random_state=42)"
      ]
    },
    {
      "cell_type": "code",
      "execution_count": null,
      "metadata": {
        "id": "ugVHu7K9yZap"
      },
      "outputs": [],
      "source": [
        "# Create the new \"tapaco_train\" dataset by concatenating the selected samples\n",
        "tapaco_train = pd.concat([selected_tapaco_samples, selected_bnpc_samples])\n"
      ]
    },
    {
      "cell_type": "code",
      "execution_count": null,
      "metadata": {
        "id": "KhCgpU9ryeGv"
      },
      "outputs": [],
      "source": [
        "# Remove the selected samples from both datasets\n",
        "tapaco = tapaco.drop(selected_tapaco_samples.index)\n",
        "bnpc_train = bnpc_train.drop(selected_bnpc_samples.index)"
      ]
    },
    {
      "cell_type": "code",
      "execution_count": null,
      "metadata": {
        "id": "mCwcuMF3ykc4"
      },
      "outputs": [],
      "source": [
        "# Save the new \"tapaco_train\" dataset and updated versions of BnPC_test, TaPaCo, and BnPC_train datasets\n",
        "tapaco_train.to_csv('tapaco_train.csv', index=False)  # Save tapaco_train dataset\n",
        "tapaco.to_csv('updated_TaPaCo.csv', index=False)  # Save updated TaPaCo dataset\n",
        "bnpc_train.to_csv('updated_BnPC_train.csv', index=False)  # Save updated BnPC_train dataset"
      ]
    },
    {
      "cell_type": "code",
      "execution_count": null,
      "metadata": {
        "id": "ahfA1QVCy3e5"
      },
      "outputs": [],
      "source": [
        "bnpc_val = pd.read_csv('BnPC_val.csv')\n",
        "tapaco = pd.read_csv('updated_TaPaCo.csv')"
      ]
    },
    {
      "cell_type": "code",
      "execution_count": null,
      "metadata": {
        "id": "gnmW4dc6y_qb"
      },
      "outputs": [],
      "source": [
        "# Filter BnPC_test dataset for label 0 samples\n",
        "bnpc_label_0 = bnpc_val[bnpc_val['label'] == 0]  # Replace 'label_column_name' with the actual label column name\n",
        "\n",
        "# Check if there are enough label 0 samples for selection\n",
        "if len(bnpc_label_0) < 514:\n",
        "    raise ValueError(\"Not enough label 0 samples in BnPC_test dataset.\")\n",
        "\n",
        "# Randomly select 485 samples from BnPC_test dataset\n",
        "selected_bnpc_samples = bnpc_label_0.sample(n=514, random_state=42)\n",
        "\n",
        "# Randomly select 337 samples from TaPaCo dataset\n",
        "selected_tapaco_samples = tapaco.sample(n=355, random_state=42)"
      ]
    },
    {
      "cell_type": "code",
      "execution_count": null,
      "metadata": {
        "id": "5xDJ9zA8zBgK"
      },
      "outputs": [],
      "source": [
        "# Create the new \"tapaco_train\" dataset by concatenating the selected samples\n",
        "tapaco_val = pd.concat([selected_tapaco_samples, selected_bnpc_samples])\n"
      ]
    },
    {
      "cell_type": "code",
      "execution_count": null,
      "metadata": {
        "id": "LzL_LpjAzCBW"
      },
      "outputs": [],
      "source": [
        "# Remove the selected samples from both datasets\n",
        "tapaco = tapaco.drop(selected_tapaco_samples.index)\n",
        "bnpc_val = bnpc_val.drop(selected_bnpc_samples.index)"
      ]
    },
    {
      "cell_type": "code",
      "execution_count": null,
      "metadata": {
        "id": "vl3u9rZZzGoe"
      },
      "outputs": [],
      "source": [
        "# Save the new \"tapaco_train\" dataset and updated versions of BnPC_test, TaPaCo, and BnPC_train datasets\n",
        "tapaco_val.to_csv('tapaco_val.csv', index=False)  # Save tapaco_train dataset\n",
        "tapaco.to_csv('updated_TaPaCo.csv', index=False)  # Save updated TaPaCo dataset\n",
        "bnpc_val.to_csv('updated_BnPC_val.csv', index=False)  # Save updated BnPC_train dataset"
      ]
    },
    {
      "cell_type": "markdown",
      "metadata": {
        "id": "_OGZBpTp_vJs"
      },
      "source": [
        "#### BUET Paraphrase Dataset\n"
      ]
    },
    {
      "cell_type": "code",
      "execution_count": null,
      "metadata": {
        "id": "98DfuztYz6Zf"
      },
      "outputs": [],
      "source": [
        "# Para 3,426\n",
        "# Non Para 5,361"
      ]
    },
    {
      "cell_type": "code",
      "execution_count": null,
      "metadata": {
        "id": "IZLErj7GAogt"
      },
      "outputs": [],
      "source": [
        "tapaco = pd.read_csv('TaPaCo.csv')"
      ]
    },
    {
      "cell_type": "code",
      "execution_count": null,
      "metadata": {
        "colab": {
          "base_uri": "https://localhost:8080/",
          "height": 300
        },
        "id": "6KLo6YptAo9g",
        "outputId": "b91f48ef-cb21-4c1d-a836-1c69b6afd24f"
      },
      "outputs": [
        {
          "data": {
            "text/html": [
              "\n",
              "  <div id=\"df-d3976a4f-ca56-43df-aec5-140432698b04\" class=\"colab-df-container\">\n",
              "    <div>\n",
              "<style scoped>\n",
              "    .dataframe tbody tr th:only-of-type {\n",
              "        vertical-align: middle;\n",
              "    }\n",
              "\n",
              "    .dataframe tbody tr th {\n",
              "        vertical-align: top;\n",
              "    }\n",
              "\n",
              "    .dataframe thead th {\n",
              "        text-align: right;\n",
              "    }\n",
              "</style>\n",
              "<table border=\"1\" class=\"dataframe\">\n",
              "  <thead>\n",
              "    <tr style=\"text-align: right;\">\n",
              "      <th></th>\n",
              "      <th>label</th>\n",
              "    </tr>\n",
              "  </thead>\n",
              "  <tbody>\n",
              "    <tr>\n",
              "      <th>count</th>\n",
              "      <td>2020.0</td>\n",
              "    </tr>\n",
              "    <tr>\n",
              "      <th>mean</th>\n",
              "      <td>1.0</td>\n",
              "    </tr>\n",
              "    <tr>\n",
              "      <th>std</th>\n",
              "      <td>0.0</td>\n",
              "    </tr>\n",
              "    <tr>\n",
              "      <th>min</th>\n",
              "      <td>1.0</td>\n",
              "    </tr>\n",
              "    <tr>\n",
              "      <th>25%</th>\n",
              "      <td>1.0</td>\n",
              "    </tr>\n",
              "    <tr>\n",
              "      <th>50%</th>\n",
              "      <td>1.0</td>\n",
              "    </tr>\n",
              "    <tr>\n",
              "      <th>75%</th>\n",
              "      <td>1.0</td>\n",
              "    </tr>\n",
              "    <tr>\n",
              "      <th>max</th>\n",
              "      <td>1.0</td>\n",
              "    </tr>\n",
              "  </tbody>\n",
              "</table>\n",
              "</div>\n",
              "    <div class=\"colab-df-buttons\">\n",
              "\n",
              "  <div class=\"colab-df-container\">\n",
              "    <button class=\"colab-df-convert\" onclick=\"convertToInteractive('df-d3976a4f-ca56-43df-aec5-140432698b04')\"\n",
              "            title=\"Convert this dataframe to an interactive table.\"\n",
              "            style=\"display:none;\">\n",
              "\n",
              "  <svg xmlns=\"http://www.w3.org/2000/svg\" height=\"24px\" viewBox=\"0 -960 960 960\">\n",
              "    <path d=\"M120-120v-720h720v720H120Zm60-500h600v-160H180v160Zm220 220h160v-160H400v160Zm0 220h160v-160H400v160ZM180-400h160v-160H180v160Zm440 0h160v-160H620v160ZM180-180h160v-160H180v160Zm440 0h160v-160H620v160Z\"/>\n",
              "  </svg>\n",
              "    </button>\n",
              "\n",
              "  <style>\n",
              "    .colab-df-container {\n",
              "      display:flex;\n",
              "      gap: 12px;\n",
              "    }\n",
              "\n",
              "    .colab-df-convert {\n",
              "      background-color: #E8F0FE;\n",
              "      border: none;\n",
              "      border-radius: 50%;\n",
              "      cursor: pointer;\n",
              "      display: none;\n",
              "      fill: #1967D2;\n",
              "      height: 32px;\n",
              "      padding: 0 0 0 0;\n",
              "      width: 32px;\n",
              "    }\n",
              "\n",
              "    .colab-df-convert:hover {\n",
              "      background-color: #E2EBFA;\n",
              "      box-shadow: 0px 1px 2px rgba(60, 64, 67, 0.3), 0px 1px 3px 1px rgba(60, 64, 67, 0.15);\n",
              "      fill: #174EA6;\n",
              "    }\n",
              "\n",
              "    .colab-df-buttons div {\n",
              "      margin-bottom: 4px;\n",
              "    }\n",
              "\n",
              "    [theme=dark] .colab-df-convert {\n",
              "      background-color: #3B4455;\n",
              "      fill: #D2E3FC;\n",
              "    }\n",
              "\n",
              "    [theme=dark] .colab-df-convert:hover {\n",
              "      background-color: #434B5C;\n",
              "      box-shadow: 0px 1px 3px 1px rgba(0, 0, 0, 0.15);\n",
              "      filter: drop-shadow(0px 1px 2px rgba(0, 0, 0, 0.3));\n",
              "      fill: #FFFFFF;\n",
              "    }\n",
              "  </style>\n",
              "\n",
              "    <script>\n",
              "      const buttonEl =\n",
              "        document.querySelector('#df-d3976a4f-ca56-43df-aec5-140432698b04 button.colab-df-convert');\n",
              "      buttonEl.style.display =\n",
              "        google.colab.kernel.accessAllowed ? 'block' : 'none';\n",
              "\n",
              "      async function convertToInteractive(key) {\n",
              "        const element = document.querySelector('#df-d3976a4f-ca56-43df-aec5-140432698b04');\n",
              "        const dataTable =\n",
              "          await google.colab.kernel.invokeFunction('convertToInteractive',\n",
              "                                                    [key], {});\n",
              "        if (!dataTable) return;\n",
              "\n",
              "        const docLinkHtml = 'Like what you see? Visit the ' +\n",
              "          '<a target=\"_blank\" href=https://colab.research.google.com/notebooks/data_table.ipynb>data table notebook</a>'\n",
              "          + ' to learn more about interactive tables.';\n",
              "        element.innerHTML = '';\n",
              "        dataTable['output_type'] = 'display_data';\n",
              "        await google.colab.output.renderOutput(dataTable, element);\n",
              "        const docLink = document.createElement('div');\n",
              "        docLink.innerHTML = docLinkHtml;\n",
              "        element.appendChild(docLink);\n",
              "      }\n",
              "    </script>\n",
              "  </div>\n",
              "\n",
              "\n",
              "<div id=\"df-e88241f5-2b40-4f46-bcfd-59891ee9b028\">\n",
              "  <button class=\"colab-df-quickchart\" onclick=\"quickchart('df-e88241f5-2b40-4f46-bcfd-59891ee9b028')\"\n",
              "            title=\"Suggest charts.\"\n",
              "            style=\"display:none;\">\n",
              "\n",
              "<svg xmlns=\"http://www.w3.org/2000/svg\" height=\"24px\"viewBox=\"0 0 24 24\"\n",
              "     width=\"24px\">\n",
              "    <g>\n",
              "        <path d=\"M19 3H5c-1.1 0-2 .9-2 2v14c0 1.1.9 2 2 2h14c1.1 0 2-.9 2-2V5c0-1.1-.9-2-2-2zM9 17H7v-7h2v7zm4 0h-2V7h2v10zm4 0h-2v-4h2v4z\"/>\n",
              "    </g>\n",
              "</svg>\n",
              "  </button>\n",
              "\n",
              "<style>\n",
              "  .colab-df-quickchart {\n",
              "      --bg-color: #E8F0FE;\n",
              "      --fill-color: #1967D2;\n",
              "      --hover-bg-color: #E2EBFA;\n",
              "      --hover-fill-color: #174EA6;\n",
              "      --disabled-fill-color: #AAA;\n",
              "      --disabled-bg-color: #DDD;\n",
              "  }\n",
              "\n",
              "  [theme=dark] .colab-df-quickchart {\n",
              "      --bg-color: #3B4455;\n",
              "      --fill-color: #D2E3FC;\n",
              "      --hover-bg-color: #434B5C;\n",
              "      --hover-fill-color: #FFFFFF;\n",
              "      --disabled-bg-color: #3B4455;\n",
              "      --disabled-fill-color: #666;\n",
              "  }\n",
              "\n",
              "  .colab-df-quickchart {\n",
              "    background-color: var(--bg-color);\n",
              "    border: none;\n",
              "    border-radius: 50%;\n",
              "    cursor: pointer;\n",
              "    display: none;\n",
              "    fill: var(--fill-color);\n",
              "    height: 32px;\n",
              "    padding: 0;\n",
              "    width: 32px;\n",
              "  }\n",
              "\n",
              "  .colab-df-quickchart:hover {\n",
              "    background-color: var(--hover-bg-color);\n",
              "    box-shadow: 0 1px 2px rgba(60, 64, 67, 0.3), 0 1px 3px 1px rgba(60, 64, 67, 0.15);\n",
              "    fill: var(--button-hover-fill-color);\n",
              "  }\n",
              "\n",
              "  .colab-df-quickchart-complete:disabled,\n",
              "  .colab-df-quickchart-complete:disabled:hover {\n",
              "    background-color: var(--disabled-bg-color);\n",
              "    fill: var(--disabled-fill-color);\n",
              "    box-shadow: none;\n",
              "  }\n",
              "\n",
              "  .colab-df-spinner {\n",
              "    border: 2px solid var(--fill-color);\n",
              "    border-color: transparent;\n",
              "    border-bottom-color: var(--fill-color);\n",
              "    animation:\n",
              "      spin 1s steps(1) infinite;\n",
              "  }\n",
              "\n",
              "  @keyframes spin {\n",
              "    0% {\n",
              "      border-color: transparent;\n",
              "      border-bottom-color: var(--fill-color);\n",
              "      border-left-color: var(--fill-color);\n",
              "    }\n",
              "    20% {\n",
              "      border-color: transparent;\n",
              "      border-left-color: var(--fill-color);\n",
              "      border-top-color: var(--fill-color);\n",
              "    }\n",
              "    30% {\n",
              "      border-color: transparent;\n",
              "      border-left-color: var(--fill-color);\n",
              "      border-top-color: var(--fill-color);\n",
              "      border-right-color: var(--fill-color);\n",
              "    }\n",
              "    40% {\n",
              "      border-color: transparent;\n",
              "      border-right-color: var(--fill-color);\n",
              "      border-top-color: var(--fill-color);\n",
              "    }\n",
              "    60% {\n",
              "      border-color: transparent;\n",
              "      border-right-color: var(--fill-color);\n",
              "    }\n",
              "    80% {\n",
              "      border-color: transparent;\n",
              "      border-right-color: var(--fill-color);\n",
              "      border-bottom-color: var(--fill-color);\n",
              "    }\n",
              "    90% {\n",
              "      border-color: transparent;\n",
              "      border-bottom-color: var(--fill-color);\n",
              "    }\n",
              "  }\n",
              "</style>\n",
              "\n",
              "  <script>\n",
              "    async function quickchart(key) {\n",
              "      const quickchartButtonEl =\n",
              "        document.querySelector('#' + key + ' button');\n",
              "      quickchartButtonEl.disabled = true;  // To prevent multiple clicks.\n",
              "      quickchartButtonEl.classList.add('colab-df-spinner');\n",
              "      try {\n",
              "        const charts = await google.colab.kernel.invokeFunction(\n",
              "            'suggestCharts', [key], {});\n",
              "      } catch (error) {\n",
              "        console.error('Error during call to suggestCharts:', error);\n",
              "      }\n",
              "      quickchartButtonEl.classList.remove('colab-df-spinner');\n",
              "      quickchartButtonEl.classList.add('colab-df-quickchart-complete');\n",
              "    }\n",
              "    (() => {\n",
              "      let quickchartButtonEl =\n",
              "        document.querySelector('#df-e88241f5-2b40-4f46-bcfd-59891ee9b028 button');\n",
              "      quickchartButtonEl.style.display =\n",
              "        google.colab.kernel.accessAllowed ? 'block' : 'none';\n",
              "    })();\n",
              "  </script>\n",
              "</div>\n",
              "    </div>\n",
              "  </div>\n"
            ],
            "text/plain": [
              "        label\n",
              "count  2020.0\n",
              "mean      1.0\n",
              "std       0.0\n",
              "min       1.0\n",
              "25%       1.0\n",
              "50%       1.0\n",
              "75%       1.0\n",
              "max       1.0"
            ]
          },
          "execution_count": 80,
          "metadata": {},
          "output_type": "execute_result"
        }
      ],
      "source": [
        "tapaco.describe()"
      ]
    },
    {
      "cell_type": "code",
      "execution_count": null,
      "metadata": {
        "id": "Ficq0X25AqnL"
      },
      "outputs": [],
      "source": []
    }
  ],
  "metadata": {
    "colab": {
      "provenance": []
    },
    "kernelspec": {
      "display_name": "Python 3",
      "name": "python3"
    },
    "language_info": {
      "name": "python"
    }
  },
  "nbformat": 4,
  "nbformat_minor": 0
}
