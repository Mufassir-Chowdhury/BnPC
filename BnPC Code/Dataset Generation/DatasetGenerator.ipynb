{
 "metadata": {
  "language_info": {
   "codemirror_mode": {
    "name": "ipython",
    "version": 3
   },
   "file_extension": ".py",
   "mimetype": "text/x-python",
   "name": "python",
   "nbconvert_exporter": "python",
   "pygments_lexer": "ipython3",
   "version": "3.8.5-final"
  },
  "orig_nbformat": 2,
  "kernelspec": {
   "name": "Python 3.8.5 64-bit",
   "display_name": "Python 3.8.5 64-bit",
   "metadata": {
    "interpreter": {
     "hash": "2db524e06e9f5f4ffedc911c917cb75e12dbc923643829bf417064a77eb14d37"
    }
   }
  }
 },
 "nbformat": 4,
 "nbformat_minor": 2,
 "cells": [
  {
   "cell_type": "code",
   "execution_count": 1,
   "metadata": {},
   "outputs": [],
   "source": [
    "import pandas as pd\n",
    "import os"
   ]
  },
  {
   "cell_type": "code",
   "execution_count": 2,
   "metadata": {},
   "outputs": [],
   "source": [
    "clusterFolderPath = './Sports_News/'\n",
    "clusterFilenames = os.listdir(clusterFolderPath)\n",
    "smallerClusterSize = 6\n",
    "outputFilePath = './datasets/sports.csv'"
   ]
  },
  {
   "cell_type": "code",
   "execution_count": 3,
   "metadata": {},
   "outputs": [],
   "source": [
    "def saveToDataset(cluster):\n",
    "    sentencePairs = []\n",
    "    for index, line1 in enumerate(cluster):\n",
    "        for line2 in cluster[index+1:]:\n",
    "            sentencePairs.append({\n",
    "                \"sentence1\": line1,\n",
    "                \"sentence2\": line2\n",
    "            })\n",
    "    df = pd.DataFrame(sentencePairs)\n",
    "    df.to_csv(outputFilePath, mode='a', index=False, header=False)"
   ]
  },
  {
   "cell_type": "code",
   "execution_count": 4,
   "metadata": {
    "tags": []
   },
   "outputs": [],
   "source": [
    "for clusterFilename in clusterFilenames:\n",
    "    clusteFilePath = clusterFolderPath + clusterFilename\n",
    "\n",
    "    with open(clusteFilePath, encoding='utf8') as f:\n",
    "        headlines = [line.strip() for line in f.readlines()]\n",
    "\n",
    "    smallerClusters = [headlines[i:i+smallerClusterSize] for i in range(0, len(headlines), smallerClusterSize)]\n",
    "\n",
    "    for cluster in smallerClusters:\n",
    "        saveToDataset(cluster)"
   ]
  }
 ]
}