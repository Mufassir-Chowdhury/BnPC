{
  "cells": [
    {
      "cell_type": "code",
      "execution_count": null,
      "metadata": {
        "id": "6GcWuKWBCrpK"
      },
      "outputs": [],
      "source": [
        "import pandas as pd\n",
        "import numpy as np"
      ]
    },
    {
      "cell_type": "markdown",
      "metadata": {
        "id": "flxAA8WZDGVh"
      },
      "source": [
        "```\n",
        "BnPC Whole:     3,426 ; 38.99% Para\n",
        "                5,361 ; 61.01% Non Para\n",
        "\n",
        "BnPC Test:       Total: 1394\n",
        "                 Number of pairs with label 0: 823, Total% 9.37%, nonpara% 15.35%\n",
        "                 Number of pairs with label 1: 571, Total% 6.50%, para% 16.67%\n",
        "                 Percentage of label 0 data: 59.04%\n",
        "                 Percentage of label 1 data: 40.96%\n",
        "\n",
        "BnPC Train:      Total: 5919\n",
        "                 Number of pairs with label 0: 3666, 41.72%, nonpara% 68.38%\n",
        "                 Number of pairs with label 1: 2253, 25.64%, para% 65.76%\n",
        "                 Percentage of label 0 data: 61.94%\n",
        "                 Percentage of label 1 data: 38.06%\n",
        "\n",
        "BnPC Validation: Total: 1474\n",
        "                 Number of pairs with label 0: 872, 9.92%, nonpara% 16.27%\n",
        "                 Number of pairs with label 1: 602, 6.85%, para% 17.57%\n",
        "                 Percentage of label 0 data: 59.16%\n",
        "                 Percentage of label 1 data: 40.84%\n",
        "\n",
        "```"
      ]
    },
    {
      "cell_type": "code",
      "execution_count": null,
      "metadata": {
        "id": "uiVnkR2uCyoU"
      },
      "outputs": [],
      "source": [
        "# Read the BUET_train.csv, BUET_test.csv, and BUET_val.csv files into DataFrames\n",
        "train_df = pd.read_csv('BUET_train.csv', encoding='utf-8')  # Specify the encoding\n",
        "test_df = pd.read_csv('BUET_test.csv', encoding='utf-8')    # Specify the encoding\n",
        "val_df = pd.read_csv('BUET_val.csv', encoding='utf-8')      # Specify the encoding\n"
      ]
    },
    {
      "cell_type": "code",
      "execution_count": null,
      "metadata": {
        "id": "CGvCt5C4C0HN"
      },
      "outputs": [],
      "source": [
        "# Rename the \"source\" column to \"sentence1\" and the \"target\" column to \"sentence2\" for all DataFrames\n",
        "train_df.rename(columns={'source': 'sentence1', 'target': 'sentence2'}, inplace=True)\n",
        "test_df.rename(columns={'source': 'sentence1', 'target': 'sentence2'}, inplace=True)\n",
        "val_df.rename(columns={'source': 'sentence1', 'target': 'sentence2'}, inplace=True)"
      ]
    },
    {
      "cell_type": "code",
      "execution_count": null,
      "metadata": {
        "id": "0BveHGKpC1jm"
      },
      "outputs": [],
      "source": [
        "\n",
        "# Add a new column named \"label\" with all values set to 1 for all DataFrames\n",
        "train_df['label'] = 1\n",
        "test_df['label'] = 1\n",
        "val_df['label'] = 1"
      ]
    },
    {
      "cell_type": "code",
      "execution_count": null,
      "metadata": {
        "id": "qZfXPO5uC4Bw"
      },
      "outputs": [],
      "source": [
        "\n",
        "# Save the modified DataFrames back to CSV files\n",
        "train_df.to_csv('BUET_train_modified.csv', index=False)  # Save the modified train DataFrame\n",
        "test_df.to_csv('BUET_test_modified.csv', index=False)    # Save the modified test DataFrame\n",
        "val_df.to_csv('BUET_val_modified.csv', index=False)      # Save the modified validation DataFrame"
      ]
    },
    {
      "cell_type": "code",
      "execution_count": null,
      "metadata": {
        "id": "CX1xS1wNFoPT"
      },
      "outputs": [],
      "source": [
        "train_df = pd.read_csv('BUET_train_modified.csv', encoding='utf-8')  # Specify the encoding\n",
        "test_df = pd.read_csv('BUET_test_modified.csv', encoding='utf-8')    # Specify the encoding\n",
        "val_df = pd.read_csv('BUET_val_modified.csv', encoding='utf-8')      # Specify the encoding"
      ]
    },
    {
      "cell_type": "code",
      "execution_count": null,
      "metadata": {
        "colab": {
          "base_uri": "https://localhost:8080/"
        },
        "id": "s6vzdM1EFjEj",
        "outputId": "7611c2ec-0a38-4f99-e47a-a4b3c7be2673"
      },
      "outputs": [
        {
          "name": "stderr",
          "output_type": "stream",
          "text": [
            "<ipython-input-25-21ffd1a20965>:21: FutureWarning: The frame.append method is deprecated and will be removed from pandas in a future version. Use pandas.concat instead.\n",
            "  final_df = final_df.append(combined_df, ignore_index=True)\n",
            "<ipython-input-25-21ffd1a20965>:21: FutureWarning: The frame.append method is deprecated and will be removed from pandas in a future version. Use pandas.concat instead.\n",
            "  final_df = final_df.append(combined_df, ignore_index=True)\n"
          ]
        },
        {
          "name": "stdout",
          "output_type": "stream",
          "text": [
            "Processed BUET_train_bnpc_1.csv\n",
            "Processed BUET_train_bnpc_2.csv\n"
          ]
        },
        {
          "name": "stderr",
          "output_type": "stream",
          "text": [
            "<ipython-input-25-21ffd1a20965>:21: FutureWarning: The frame.append method is deprecated and will be removed from pandas in a future version. Use pandas.concat instead.\n",
            "  final_df = final_df.append(combined_df, ignore_index=True)\n",
            "<ipython-input-25-21ffd1a20965>:21: FutureWarning: The frame.append method is deprecated and will be removed from pandas in a future version. Use pandas.concat instead.\n",
            "  final_df = final_df.append(combined_df, ignore_index=True)\n"
          ]
        },
        {
          "name": "stdout",
          "output_type": "stream",
          "text": [
            "Processed BUET_train_bnpc_3.csv\n",
            "Processed BUET_train_bnpc_4.csv\n"
          ]
        },
        {
          "name": "stderr",
          "output_type": "stream",
          "text": [
            "<ipython-input-25-21ffd1a20965>:21: FutureWarning: The frame.append method is deprecated and will be removed from pandas in a future version. Use pandas.concat instead.\n",
            "  final_df = final_df.append(combined_df, ignore_index=True)\n"
          ]
        },
        {
          "name": "stdout",
          "output_type": "stream",
          "text": [
            "Processed BUET_train_bnpc_5.csv\n"
          ]
        }
      ],
      "source": [
        "\n",
        "\n",
        "# Load BUET_train_modified.csv and BnPC_train.csv\n",
        "buet_train_modified = pd.read_csv('BUET_train_modified.csv')\n",
        "bnpc_train = pd.read_csv('BnPC_train.csv')\n",
        "\n",
        "\n",
        "\n",
        "# Repeat the process three times\n",
        "for i in range(1, 4):\n",
        "    # Initialize an empty DataFrame to store the final result\n",
        "    final_df = pd.DataFrame(columns=buet_train_modified.columns)\n",
        "\n",
        "    # Randomly sample 2253 rows from BUET_train_modified.csv\n",
        "    buet_sample = buet_train_modified.sample(n=2253, random_state=i)\n",
        "\n",
        "    # Filter BnPC_train.csv where label is 0 and randomly sample 3666 rows\n",
        "    bnpc_filtered = bnpc_train[bnpc_train['label'] == 0]\n",
        "    bnpc_sample = bnpc_filtered.sample(n=3666, random_state=i)\n",
        "\n",
        "    # Concatenate the two samples\n",
        "    combined_df = pd.concat([buet_sample, bnpc_sample], ignore_index=True)\n",
        "\n",
        "    # Append the combined data to the final DataFrame\n",
        "    final_df = final_df.append(combined_df, ignore_index=True)\n",
        "\n",
        "    # Drop the used rows from BUET_train_modified.csv\n",
        "    buet_train_modified = buet_train_modified.drop(buet_sample.index)\n",
        "\n",
        "    # Print progress\n",
        "    print(f\"Processed BUET_train_bnpc_{i}.csv\")\n",
        "\n",
        "    final_df.to_csv(f'BUET_train_bnpc_{i}.csv', index=False)"
      ]
    },
    {
      "cell_type": "code",
      "execution_count": null,
      "metadata": {
        "colab": {
          "base_uri": "https://localhost:8080/"
        },
        "id": "MyQL-1IqFjqk",
        "outputId": "bb675447-84d8-4dd6-d1c6-deb3f10f9aff"
      },
      "outputs": [
        {
          "name": "stdout",
          "output_type": "stream",
          "text": [
            "Processed BUET_test_bnpc_1.csv\n",
            "Processed BUET_test_bnpc_2.csv\n",
            "Processed BUET_test_bnpc_3.csv\n",
            "Processed BUET_test_bnpc_4.csv\n",
            "Processed BUET_test_bnpc_5.csv\n"
          ]
        },
        {
          "name": "stderr",
          "output_type": "stream",
          "text": [
            "<ipython-input-27-ea9d1403974a>:21: FutureWarning: The frame.append method is deprecated and will be removed from pandas in a future version. Use pandas.concat instead.\n",
            "  final_df = final_df.append(combined_df, ignore_index=True)\n",
            "<ipython-input-27-ea9d1403974a>:21: FutureWarning: The frame.append method is deprecated and will be removed from pandas in a future version. Use pandas.concat instead.\n",
            "  final_df = final_df.append(combined_df, ignore_index=True)\n",
            "<ipython-input-27-ea9d1403974a>:21: FutureWarning: The frame.append method is deprecated and will be removed from pandas in a future version. Use pandas.concat instead.\n",
            "  final_df = final_df.append(combined_df, ignore_index=True)\n",
            "<ipython-input-27-ea9d1403974a>:21: FutureWarning: The frame.append method is deprecated and will be removed from pandas in a future version. Use pandas.concat instead.\n",
            "  final_df = final_df.append(combined_df, ignore_index=True)\n",
            "<ipython-input-27-ea9d1403974a>:21: FutureWarning: The frame.append method is deprecated and will be removed from pandas in a future version. Use pandas.concat instead.\n",
            "  final_df = final_df.append(combined_df, ignore_index=True)\n"
          ]
        }
      ],
      "source": [
        "\n",
        "# Load BUET_test_modified.csv and BnPC_test.csv\n",
        "buet_test_modified = pd.read_csv('BUET_test_modified.csv')\n",
        "bnpc_test = pd.read_csv('BnPC_test.csv')\n",
        "\n",
        "# Initialize an empty DataFrame to store the final result\n",
        "final_df = pd.DataFrame(columns=buet_test_modified.columns)\n",
        "\n",
        "# Repeat the process five times\n",
        "for i in range(1, 6):\n",
        "    # Randomly sample 571 rows from BUET_test_modified.csv\n",
        "    buet_sample = buet_test_modified.sample(n=571, random_state=i)\n",
        "\n",
        "    # Filter BnPC_test.csv where label is 0 and randomly sample 823 rows\n",
        "    bnpc_filtered = bnpc_test[bnpc_test['label'] == 0]\n",
        "    bnpc_sample = bnpc_filtered.sample(n=823, random_state=i)\n",
        "\n",
        "    # Concatenate the two samples\n",
        "    combined_df = pd.concat([buet_sample, bnpc_sample], ignore_index=True)\n",
        "\n",
        "    # Append the combined data to the final DataFrame\n",
        "    final_df = final_df.append(combined_df, ignore_index=True)\n",
        "\n",
        "    # Drop the used rows from BUET_test_modified.csv\n",
        "    buet_test_modified = buet_test_modified.drop(buet_sample.index)\n",
        "\n",
        "    # Print progress\n",
        "    print(f\"Processed BUET_test_bnpc_{i}.csv\")\n",
        "\n",
        "    final_df.to_csv(f'BUET_test_bnpc_{i}.csv', index=False)"
      ]
    },
    {
      "cell_type": "code",
      "execution_count": null,
      "metadata": {
        "colab": {
          "base_uri": "https://localhost:8080/"
        },
        "id": "TQ99MuMzOiHi",
        "outputId": "d71da88f-85cb-4f7b-99f4-9ebdf7f48c93"
      },
      "outputs": [
        {
          "name": "stderr",
          "output_type": "stream",
          "text": [
            "<ipython-input-29-f1156fbc45d4>:21: FutureWarning: The frame.append method is deprecated and will be removed from pandas in a future version. Use pandas.concat instead.\n",
            "  final_df = final_df.append(combined_df, ignore_index=True)\n",
            "<ipython-input-29-f1156fbc45d4>:21: FutureWarning: The frame.append method is deprecated and will be removed from pandas in a future version. Use pandas.concat instead.\n",
            "  final_df = final_df.append(combined_df, ignore_index=True)\n",
            "<ipython-input-29-f1156fbc45d4>:21: FutureWarning: The frame.append method is deprecated and will be removed from pandas in a future version. Use pandas.concat instead.\n",
            "  final_df = final_df.append(combined_df, ignore_index=True)\n",
            "<ipython-input-29-f1156fbc45d4>:21: FutureWarning: The frame.append method is deprecated and will be removed from pandas in a future version. Use pandas.concat instead.\n",
            "  final_df = final_df.append(combined_df, ignore_index=True)\n",
            "<ipython-input-29-f1156fbc45d4>:21: FutureWarning: The frame.append method is deprecated and will be removed from pandas in a future version. Use pandas.concat instead.\n",
            "  final_df = final_df.append(combined_df, ignore_index=True)\n"
          ]
        },
        {
          "name": "stdout",
          "output_type": "stream",
          "text": [
            "Processed BUET_val_bnpc_1.csv\n",
            "Processed BUET_val_bnpc_2.csv\n",
            "Processed BUET_val_bnpc_3.csv\n",
            "Processed BUET_val_bnpc_4.csv\n",
            "Processed BUET_val_bnpc_5.csv\n"
          ]
        }
      ],
      "source": [
        "\n",
        "# Load BUET_val_modified.csv and BnPC_val.csv\n",
        "buet_val_modified = pd.read_csv('BUET_val_modified.csv')\n",
        "bnpc_val = pd.read_csv('BnPC_val.csv')\n",
        "\n",
        "# Initialize an empty DataFrame to store the final result\n",
        "final_df = pd.DataFrame(columns=buet_val_modified.columns)\n",
        "\n",
        "# Repeat the process five times\n",
        "for i in range(1, 6):\n",
        "    # Randomly sample 602 rows from BUET_val_modified.csv\n",
        "    buet_sample = buet_val_modified.sample(n=602, random_state=i)\n",
        "\n",
        "    # Filter BnPC_val.csv where label is 0 and randomly sample 872 rows\n",
        "    bnpc_filtered = bnpc_val[bnpc_val['label'] == 0]\n",
        "    bnpc_sample = bnpc_filtered.sample(n=872, random_state=i)\n",
        "\n",
        "    # Concatenate the two samples\n",
        "    combined_df = pd.concat([buet_sample, bnpc_sample], ignore_index=True)\n",
        "\n",
        "    # Append the combined data to the final DataFrame\n",
        "    final_df = final_df.append(combined_df, ignore_index=True)\n",
        "\n",
        "    # Drop the used rows from BUET_val_modified.csv\n",
        "    buet_val_modified = buet_val_modified.drop(buet_sample.index)\n",
        "\n",
        "    # Print progress\n",
        "    print(f\"Processed BUET_val_bnpc_{i}.csv\")\n",
        "\n",
        "    final_df.to_csv(f'BUET_val_bnpc_{i}.csv', index=False)"
      ]
    },
    {
      "cell_type": "code",
      "execution_count": null,
      "metadata": {
        "id": "JBgcbVz6P3a_"
      },
      "outputs": [],
      "source": []
    }
  ],
  "metadata": {
    "colab": {
      "provenance": []
    },
    "kernelspec": {
      "display_name": "Python 3",
      "name": "python3"
    },
    "language_info": {
      "name": "python"
    }
  },
  "nbformat": 4,
  "nbformat_minor": 0
}
