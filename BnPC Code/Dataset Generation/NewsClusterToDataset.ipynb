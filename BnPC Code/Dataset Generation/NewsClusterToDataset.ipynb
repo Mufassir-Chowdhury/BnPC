{
 "metadata": {
  "language_info": {
   "codemirror_mode": {
    "name": "ipython",
    "version": 3
   },
   "file_extension": ".py",
   "mimetype": "text/x-python",
   "name": "python",
   "nbconvert_exporter": "python",
   "pygments_lexer": "ipython3",
   "version": "3.8.5-final"
  },
  "orig_nbformat": 2,
  "kernelspec": {
   "name": "Python 3.8.5 64-bit",
   "display_name": "Python 3.8.5 64-bit",
   "metadata": {
    "interpreter": {
     "hash": "2db524e06e9f5f4ffedc911c917cb75e12dbc923643829bf417064a77eb14d37"
    }
   }
  }
 },
 "nbformat": 4,
 "nbformat_minor": 2,
 "cells": [
  {
   "cell_type": "code",
   "execution_count": 1,
   "metadata": {},
   "outputs": [],
   "source": [
    "import os\n",
    "from IPython.display import clear_output\n",
    "import pandas as pd"
   ]
  },
  {
   "cell_type": "code",
   "execution_count": 2,
   "metadata": {},
   "outputs": [],
   "source": [
    "cluster_dir = 'clusters/'\n",
    "cluster_files = os.listdir(cluster_dir)"
   ]
  },
  {
   "cell_type": "code",
   "execution_count": 3,
   "metadata": {
    "tags": []
   },
   "outputs": [],
   "source": [
    "clusters = []\n",
    "\n",
    "for file in cluster_files:\n",
    "    filepath = cluster_dir + file\n",
    "    \n",
    "    with open(filepath, encoding=\"utf8\") as f:\n",
    "        clusters.append(f.read().split('\\n'))"
   ]
  },
  {
   "cell_type": "code",
   "execution_count": 20,
   "metadata": {
    "tags": []
   },
   "outputs": [
    {
     "output_type": "stream",
     "name": "stdout",
     "text": "মারা গেছেন 'ভিকি ডোনার' অভিনেতা ভূপেশ\n২০২০ সালে একের পর এক গুণী অভিনেতাদের হারাচ্ছে বলিউড! এবার ক্যানসারের কাছে পরাজিত\nGive a similarity point between 0-5\n"
    }
   ],
   "source": [
    "dataset_path = 'dataset.csv'\n",
    "dataset = []\n",
    "cluster = clusters[10]\n",
    "\n",
    "# for cluster in clusters:s\n",
    "for ind, sentence1 in enumerate(cluster):\n",
    "    for sentence2 in cluster[ind+1:]:\n",
    "        clear_output(wait=True)\n",
    "        print(sentence1)\n",
    "        print(sentence2)\n",
    "        print(\"Give a similarity point between 0-5\")\n",
    "        mark = int(input())\n",
    "\n",
    "        if mark != 5 or mark != 0:\n",
    "            data = {\n",
    "                'sentence1': sentence1,\n",
    "                'sentence2': sentence2,\n",
    "                'mark': mark\n",
    "            }\n",
    "            dataset.append(data)\n",
    "            df = pd.DataFrame([data])\n",
    "            df.to_csv(dataset_path, header=False, mode='a')\n",
    "        \n",
    "    "
   ]
  }
 ]
}
