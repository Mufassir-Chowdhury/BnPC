{
  "cells": [
    {
      "cell_type": "markdown",
      "metadata": {
        "id": "zg6PxU_EWzs1"
      },
      "source": [
        "```\n",
        "BnPC Whole:     3,426 ; 38.99% Para\n",
        "                5,361 ; 61.01% Non Para\n",
        "\n",
        "BnPC Test:       Total: 1394\n",
        "                 Number of pairs with label 0: 823, Total% 9.37%, nonpara% 15.35%\n",
        "                 Number of pairs with label 1: 571, Total% 6.50%, para% 16.67%\n",
        "                 Percentage of label 0 data: 59.04%\n",
        "                 Percentage of label 1 data: 40.96%\n",
        "\n",
        "BnPC Train:      Total: 5919\n",
        "                 Number of pairs with label 0: 3666, 41.72%, nonpara% 68.38%\n",
        "                 Number of pairs with label 1: 2253, 25.64%, para% 65.76%\n",
        "                 Percentage of label 0 data: 61.94%\n",
        "                 Percentage of label 1 data: 38.06%\n",
        "\n",
        "BnPC Validation: Total: 1474\n",
        "                 Number of pairs with label 0: 872, 9.92%, nonpara% 16.27%\n",
        "                 Number of pairs with label 1: 602, 6.85%, para% 17.57%\n",
        "                 Percentage of label 0 data: 59.16%\n",
        "                 Percentage of label 1 data: 40.84%\n",
        "\n",
        "```"
      ]
    },
    {
      "cell_type": "code",
      "execution_count": null,
      "metadata": {
        "id": "kLs9dqgnWstW"
      },
      "outputs": [],
      "source": [
        "\n",
        "import pandas as pd\n",
        "import random\n"
      ]
    },
    {
      "cell_type": "code",
      "execution_count": null,
      "metadata": {
        "id": "okj2WtgktLxS"
      },
      "outputs": [],
      "source": [
        "!pip install PyDrive"
      ]
    },
    {
      "cell_type": "code",
      "execution_count": null,
      "metadata": {
        "id": "QU7L6vmDtONK"
      },
      "outputs": [],
      "source": [
        "import os\n",
        "from pydrive.auth import GoogleAuth\n",
        "from pydrive.drive import GoogleDrive\n",
        "from google.colab import auth\n",
        "from oauth2client.client import GoogleCredentials"
      ]
    },
    {
      "cell_type": "code",
      "execution_count": null,
      "metadata": {
        "id": "R9Z8S8XktHG-"
      },
      "outputs": [],
      "source": [
        "auth.authenticate_user()\n",
        "gauth = GoogleAuth()\n",
        "gauth.credentials = GoogleCredentials.get_application_default()\n",
        "drive = GoogleDrive(gauth)"
      ]
    },
    {
      "cell_type": "code",
      "execution_count": null,
      "metadata": {
        "id": "i83jAmi8sYAR"
      },
      "outputs": [],
      "source": [
        "\n",
        "\n",
        "download = drive.CreateFile({'id': '18ZU23stSpTWAzHhChzHUzM2m-goeS8bU'})\n",
        "download.GetContentFile('indic_train.csv')"
      ]
    },
    {
      "cell_type": "code",
      "execution_count": null,
      "metadata": {
        "id": "koQtvaAEW45l"
      },
      "outputs": [],
      "source": [
        "# Read the indic_train.csv file\n",
        "df = pd.read_csv('indic_train.csv', encoding=\"utf-8\")\n",
        "\n",
        "# Rename the columns\n",
        "df.rename(columns={'input': 'sentence1', 'target': 'sentence2'}, inplace=True)\n",
        "\n",
        "\n",
        "\n"
      ]
    },
    {
      "cell_type": "code",
      "execution_count": null,
      "metadata": {
        "colab": {
          "base_uri": "https://localhost:8080/",
          "height": 200
        },
        "id": "OzlKVUJPW9X2",
        "outputId": "7f393f53-af84-4eb7-a590-5ee43b3e0dcd"
      },
      "outputs": [
        {
          "ename": "NameError",
          "evalue": "ignored",
          "output_type": "error",
          "traceback": [
            "\u001b[0;31m---------------------------------------------------------------------------\u001b[0m",
            "\u001b[0;31mNameError\u001b[0m                                 Traceback (most recent call last)",
            "\u001b[0;32m<ipython-input-5-1f343c9991d1>\u001b[0m in \u001b[0;36m<cell line: 2>\u001b[0;34m()\u001b[0m\n\u001b[1;32m      1\u001b[0m \u001b[0;31m# Create a new DataFrame with \"label\" column filled with 1\u001b[0m\u001b[0;34m\u001b[0m\u001b[0;34m\u001b[0m\u001b[0m\n\u001b[0;32m----> 2\u001b[0;31m \u001b[0mdf\u001b[0m\u001b[0;34m[\u001b[0m\u001b[0;34m'label'\u001b[0m\u001b[0;34m]\u001b[0m \u001b[0;34m=\u001b[0m \u001b[0;36m1\u001b[0m\u001b[0;34m\u001b[0m\u001b[0;34m\u001b[0m\u001b[0m\n\u001b[0m",
            "\u001b[0;31mNameError\u001b[0m: name 'df' is not defined"
          ]
        }
      ],
      "source": [
        "# Create a new DataFrame with \"label\" column filled with 1\n",
        "df['label'] = 1"
      ]
    },
    {
      "cell_type": "code",
      "execution_count": null,
      "metadata": {
        "id": "laUsW1F7W7_r"
      },
      "outputs": [],
      "source": [
        "# Save the new DataFrame to a new CSV file\n",
        "df.to_csv('new_indic_train.csv', index=False)"
      ]
    },
    {
      "cell_type": "code",
      "execution_count": null,
      "metadata": {
        "id": "ogK1xgILYaF0"
      },
      "outputs": [],
      "source": [
        "\n",
        "\n",
        "# Load the new_indic_train.csv and BnPC_train.csv files\n",
        "new_indic_train_df = pd.read_csv('new_indic_val.csv', encoding='utf-8')\n",
        "bnpc_train_df = pd.read_csv('BnPC_val.csv')\n"
      ]
    },
    {
      "cell_type": "code",
      "execution_count": null,
      "metadata": {
        "colab": {
          "base_uri": "https://localhost:8080/"
        },
        "id": "LaPNSTIQYf3t",
        "outputId": "063b9b8e-7392-478c-c7ca-39b2261c9c14"
      },
      "outputs": [
        {
          "name": "stdout",
          "output_type": "stream",
          "text": [
            "Process completed. Five datasets have been generated: indic_train_bnpc_1.csv, indic_train_bnpc_2.csv, indic_train_bnpc_3.csv, indic_train_bnpc_4.csv, indic_train_bnpc_5.csv\n"
          ]
        }
      ],
      "source": [
        "\n",
        "# Initialize a list to store the generated datasets\n",
        "generated_datasets = []\n",
        "\n",
        "# Repeat the process 3 times\n",
        "for i in range(1, 4):\n",
        "    # Randomly select 2253 samples from new_indic_train_df\n",
        "    selected_samples_new_indic = new_indic_train_df.sample(n=602, random_state=i)\n",
        "\n",
        "    # Randomly select 3666 samples from bnpc_train_df where label is 0\n",
        "    selected_samples_bnpc = bnpc_train_df[bnpc_train_df['label'] == 0].sample(n=872, random_state=i)\n",
        "\n",
        "    # Concatenate the selected samples\n",
        "    combined_df = pd.concat([selected_samples_new_indic, selected_samples_bnpc], ignore_index=True)\n",
        "\n",
        "    # Save the combined dataset to a new CSV file\n",
        "    combined_df.to_csv(f'indic_val_bnpc_{i}.csv', index=False)\n",
        "\n",
        "    # Remove the selected samples from new_indic_train_df\n",
        "    new_indic_train_df = new_indic_train_df.drop(selected_samples_new_indic.index)\n",
        "\n",
        "    # Append the generated dataset to the list\n",
        "    generated_datasets.append(combined_df)\n",
        "\n",
        "print(\"Process completed. Five datasets have been generated: indic_train_bnpc_1.csv, indic_train_bnpc_2.csv, indic_train_bnpc_3.csv, indic_train_bnpc_4.csv, indic_train_bnpc_5.csv\")\n"
      ]
    },
    {
      "cell_type": "code",
      "execution_count": null,
      "metadata": {
        "id": "UFMhk_pLZWBh"
      },
      "outputs": [],
      "source": []
    }
  ],
  "metadata": {
    "colab": {
      "provenance": []
    },
    "kernelspec": {
      "display_name": "Python 3",
      "name": "python3"
    },
    "language_info": {
      "name": "python"
    }
  },
  "nbformat": 4,
  "nbformat_minor": 0
}
