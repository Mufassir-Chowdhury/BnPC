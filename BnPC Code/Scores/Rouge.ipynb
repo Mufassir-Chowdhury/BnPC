{
  "nbformat": 4,
  "nbformat_minor": 0,
  "metadata": {
    "colab": {
      "provenance": []
    },
    "kernelspec": {
      "name": "python3",
      "display_name": "Python 3"
    },
    "language_info": {
      "name": "python"
    }
  },
  "cells": [
    {
      "cell_type": "code",
      "source": [
        "import pandas as pd\n",
        "import string\n",
        "import nltk\n",
        "from nltk.translate.rouge_score import rouge_n, rouge_l\n"
      ],
      "metadata": {
        "id": "MnFMTX3D44U4"
      },
      "execution_count": null,
      "outputs": []
    },
    {
      "cell_type": "code",
      "execution_count": null,
      "metadata": {
        "id": "f-bm5yiP4yfa"
      },
      "outputs": [],
      "source": [
        "\n",
        "class ROUGEScoreCalculator:\n",
        "    def __init__(self, dataset):\n",
        "        self.dataset = dataset\n",
        "\n",
        "    def calculate_rouge_score(self):\n",
        "        total_rows = self.dataset.shape[0]\n",
        "        tot_score = []\n",
        "\n",
        "        for i in range(total_rows):\n",
        "            scores = self.calculate_rouge_scores(i)\n",
        "            tot_score.append(scores)\n",
        "\n",
        "        return tot_score\n",
        "\n",
        "    def calculate_rouge_scores(self, i):\n",
        "        sentence1 = self.preprocess_text(self.dataset[\"sentence1\"][i])\n",
        "        sentence2 = self.preprocess_text(self.dataset[\"sentence2\"][i])\n",
        "\n",
        "        # Calculate ROUGE-1 score with sentence1 as candidate and sentence2 as reference\n",
        "        rouge_1_score = self.calculate_rouge(reference=sentence2, candidate=sentence1, n=1)\n",
        "\n",
        "        # Calculate ROUGE-2 score with sentence1 as candidate and sentence2 as reference\n",
        "        rouge_2_score = self.calculate_rouge(reference=sentence2, candidate=sentence1, n=2)\n",
        "\n",
        "        # Calculate ROUGE-L score with sentence1 as candidate and sentence2 as reference\n",
        "        rouge_l_score = self.calculate_rouge_l(reference=sentence2, candidate=sentence1)\n",
        "\n",
        "        # Calculate ROUGE-1 score with sentence2 as candidate and sentence1 as reference\n",
        "        rouge_1_score_reverse = self.calculate_rouge(reference=sentence1, candidate=sentence2, n=1)\n",
        "\n",
        "        # Calculate ROUGE-2 score with sentence2 as candidate and sentence1 as reference\n",
        "        rouge_2_score_reverse = self.calculate_rouge(reference=sentence1, candidate=sentence2, n=2)\n",
        "\n",
        "        # Calculate ROUGE-L score with sentence2 as candidate and sentence1 as reference\n",
        "        rouge_l_score_reverse = self.calculate_rouge_l(reference=sentence1, candidate=sentence2)\n",
        "\n",
        "        return {\n",
        "            \"rouge_1_score\": (rouge_1_score + rouge_1_score_reverse) / 2.0,\n",
        "            \"rouge_2_score\": (rouge_2_score + rouge_2_score_reverse) / 2.0,\n",
        "            \"rouge_l_score\": (rouge_l_score + rouge_l_score_reverse) / 2.0\n",
        "        }\n",
        "\n",
        "    def calculate_rouge(self, reference, candidate, n):\n",
        "        return rouge_n([reference], [candidate], n=n)\n",
        "\n",
        "    def calculate_rouge_l(self, reference, candidate):\n",
        "        return rouge_l([reference], [candidate])\n",
        "\n",
        "    def preprocess_text(self, text):\n",
        "        text = text.translate(str.maketrans('', '', string.punctuation))\n",
        "        text = text.replace('।', '')\n",
        "        return text\n",
        "\n",
        "\n"
      ]
    },
    {
      "cell_type": "code",
      "source": [
        "\n",
        "bnpc_dataset = pd.read_csv(\"BnPC_paraphrase_dataset.csv\")\n",
        "bnpc_calculator = ROUGEScoreCalculator(bnpc_dataset)\n",
        "bnpc_rouge_scores = bnpc_calculator.calculate_rouge_score()\n",
        "\n",
        "\n",
        "print(\"BNPC ROUGE Scores:\")\n",
        "for i, scores in enumerate(bnpc_rouge_scores):\n",
        "    print(f\"Pair {i + 1}: ROUGE-1: {scores['rouge_1_score']:.2f}, ROUGE-2: {scores['rouge_2_score']:.2f}, ROUGE-L: {scores['rouge_l_score']:.2f}\")\n",
        "\n",
        "# Repeat the same for BUET and indic datasets\n"
      ],
      "metadata": {
        "id": "8eGLKTPS469V"
      },
      "execution_count": null,
      "outputs": []
    },
    {
      "cell_type": "code",
      "source": [
        "BUET_dataset = pd.read_csv(\"BUET_paraphrase_dataset.csv\")\n",
        "BUET_calculator = ROUGEScoreCalculator(BUET_dataset)\n",
        "BUET_rouge_scores = BUET_calculator.calculate_rouge_score()\n",
        "\n",
        "print(\"BUET ROUGE Scores:\")\n",
        "for i, scores in enumerate(BUET_rouge_scores):\n",
        "    print(f\"Pair {i + 1}: ROUGE-1: {scores['rouge_1_score']:.2f}, ROUGE-2: {scores['rouge_2_score']:.2f}, ROUGE-L: {scores['rouge_l_score']:.2f}\")"
      ],
      "metadata": {
        "id": "hOyyFEOh5FT1"
      },
      "execution_count": null,
      "outputs": []
    },
    {
      "cell_type": "code",
      "source": [
        "\n",
        "indic_dataset = pd.read_csv(\"indic_paraphrase_dataset.csv\")\n",
        "indic_calculator = ROUGEScoreCalculator(indic_dataset)\n",
        "indic_rouge_scores = indic_calculator.calculate_rouge_score()\n",
        "\n",
        "print(\"Indic Scores:\")\n",
        "for i, scores in enumerate(indic_rouge_scores):\n",
        "    print(f\"Pair {i + 1}: ROUGE-1: {scores['rouge_1_score']:.2f}, ROUGE-2: {scores['rouge_2_score']:.2f}, ROUGE-L: {scores['rouge_l_score']:.2f}\")"
      ],
      "metadata": {
        "colab": {
          "base_uri": "https://localhost:8080/",
          "height": 212
        },
        "id": "GmQkdG9w5G-z",
        "outputId": "04a8d1bd-4794-4168-9015-17e6b5abcef9"
      },
      "execution_count": null,
      "outputs": [
        {
          "output_type": "error",
          "ename": "NameError",
          "evalue": "ignored",
          "traceback": [
            "\u001b[0;31m---------------------------------------------------------------------------\u001b[0m",
            "\u001b[0;31mNameError\u001b[0m                                 Traceback (most recent call last)",
            "\u001b[0;32m<ipython-input-1-518f557387be>\u001b[0m in \u001b[0;36m<cell line: 1>\u001b[0;34m()\u001b[0m\n\u001b[0;32m----> 1\u001b[0;31m \u001b[0mBUET_calculator\u001b[0m \u001b[0;34m=\u001b[0m \u001b[0mROUGEScoreCalculator\u001b[0m\u001b[0;34m(\u001b[0m\u001b[0mBUET_dataset\u001b[0m\u001b[0;34m)\u001b[0m\u001b[0;34m\u001b[0m\u001b[0;34m\u001b[0m\u001b[0m\n\u001b[0m\u001b[1;32m      2\u001b[0m \u001b[0mindic_dataset\u001b[0m \u001b[0;34m=\u001b[0m \u001b[0mpd\u001b[0m\u001b[0;34m.\u001b[0m\u001b[0mread_csv\u001b[0m\u001b[0;34m(\u001b[0m\u001b[0;34m\"indic_paraphrase_dataset.csv\"\u001b[0m\u001b[0;34m)\u001b[0m\u001b[0;34m\u001b[0m\u001b[0;34m\u001b[0m\u001b[0m\n\u001b[1;32m      3\u001b[0m \u001b[0mindic_calculator\u001b[0m \u001b[0;34m=\u001b[0m \u001b[0mROUGEScoreCalculator\u001b[0m\u001b[0;34m(\u001b[0m\u001b[0mindic_dataset\u001b[0m\u001b[0;34m)\u001b[0m\u001b[0;34m\u001b[0m\u001b[0;34m\u001b[0m\u001b[0m\n",
            "\u001b[0;31mNameError\u001b[0m: name 'ROUGEScoreCalculator' is not defined"
          ]
        }
      ]
    },
    {
      "cell_type": "code",
      "source": [
        "\n",
        "tapaco_dataset = pd.read_csv(\"BnPC_paraphrase_dataset.csv\")\n",
        "tapaco_calculator = ROUGEScoreCalculator(tapaco_dataset)\n",
        "tapaco_rouge_scores = tapaco_calculator.calculate_rouge_score()\n",
        "\n",
        "\n",
        "print(\"BNPC ROUGE Scores:\")\n",
        "for i, scores in enumerate(tapaco_rouge_scores):\n",
        "    print(f\"Pair {i + 1}: ROUGE-1: {scores['rouge_1_score']:.2f}, ROUGE-2: {scores['rouge_2_score']:.2f}, ROUGE-L: {scores['rouge_l_score']:.2f}\")\n",
        "\n"
      ],
      "metadata": {
        "id": "qW-ZPq8v5Ikc"
      },
      "execution_count": null,
      "outputs": []
    }
  ]
}