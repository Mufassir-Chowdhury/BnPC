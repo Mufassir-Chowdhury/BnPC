{
  "nbformat": 4,
  "nbformat_minor": 0,
  "metadata": {
    "colab": {
      "name": "BNPP: Fasttext",
      "provenance": [],
      "collapsed_sections": [],
      "authorship_tag": "ABX9TyPD+TH5syNgLz1AjYrNi1QE",
      "include_colab_link": true
    },
    "kernelspec": {
      "name": "python3",
      "display_name": "Python 3"
    },
    "language_info": {
      "name": "python"
    }
  },
  "cells": [
    {
      "cell_type": "markdown",
      "metadata": {
        "id": "view-in-github",
        "colab_type": "text"
      },
      "source": [
        "<a href=\"https://colab.research.google.com/github/KhanShaheb34/Bangla-Paraphrase-Identification/blob/master/models/Fasttext.ipynb\" target=\"_parent\"><img src=\"https://colab.research.google.com/assets/colab-badge.svg\" alt=\"Open In Colab\"/></a>"
      ]
    },
    {
      "cell_type": "code",
      "metadata": {
        "colab": {
          "base_uri": "https://localhost:8080/"
        },
        "id": "MEAZb4AHG1U5",
        "outputId": "811df5c4-9d69-4052-bf63-f1b7cdd35587"
      },
      "source": [
        "! pip install fasttext\n",
        "! gdown --id 1_C260zgutx-BXmMUkDYfhJTqlDLCsHPI\n",
        "! unzip FinalDataset.zip"
      ],
      "execution_count": 1,
      "outputs": [
        {
          "output_type": "stream",
          "name": "stdout",
          "text": [
            "Requirement already satisfied: fasttext in /usr/local/lib/python3.7/dist-packages (0.9.2)\n",
            "Requirement already satisfied: setuptools>=0.7.0 in /usr/local/lib/python3.7/dist-packages (from fasttext) (57.4.0)\n",
            "Requirement already satisfied: numpy in /usr/local/lib/python3.7/dist-packages (from fasttext) (1.19.5)\n",
            "Requirement already satisfied: pybind11>=2.2 in /usr/local/lib/python3.7/dist-packages (from fasttext) (2.8.1)\n"
          ]
        }
      ]
    },
    {
      "cell_type": "code",
      "metadata": {
        "colab": {
          "base_uri": "https://localhost:8080/"
        },
        "id": "iENQphf8Grcz",
        "outputId": "9ab8f068-6140-44ea-af16-ceeb53b9d75b"
      },
      "source": [
        "import fasttext.util\n",
        "fasttext.util.download_model('bn', if_exists='ignore')\n",
        "ft = fasttext.load_model('cc.bn.300.bin')"
      ],
      "execution_count": 1,
      "outputs": [
        {
          "output_type": "stream",
          "name": "stderr",
          "text": [
            "Warning : `load_model` does not return WordVectorModel or SupervisedModel any more, but a `FastText` object which is very similar.\n"
          ]
        }
      ]
    },
    {
      "cell_type": "code",
      "metadata": {
        "id": "Qj5hy4_w6Sgr"
      },
      "source": [
        "import re\n",
        "import numpy as np\n",
        "import pandas as pd\n",
        "from sklearn.svm import SVC\n",
        "from sklearn.metrics import classification_report"
      ],
      "execution_count": 2,
      "outputs": []
    },
    {
      "cell_type": "code",
      "metadata": {
        "id": "gWr1uVrH6js0"
      },
      "source": [
        "def hide_numbers(df, token=' [CC] '):\n",
        "  df.sentence1 = [re.sub(r\"[^ঀ-ৣ ]\", '', s).strip() for s in df.sentence1]\n",
        "  df.sentence2 = [re.sub(r\"[^ঀ-ৣ ]\", '', s).strip() for s in df.sentence2]\n",
        "  return df\n",
        "\n",
        "def load_data():\n",
        "    train_df = hide_numbers(pd.read_csv('train.csv'))\n",
        "    test_df = hide_numbers(pd.read_csv('test.csv'))\n",
        "    val_df = hide_numbers(pd.read_csv('val.csv'))\n",
        "\n",
        "    return train_df, test_df, val_df\n",
        "\n",
        "def process_dataset(df):\n",
        "  x, y = [], []\n",
        "\n",
        "  for sent1, sent2, label in zip(df.sentence1, df.sentence2, df.label):\n",
        "    x.append(np.concatenate((\n",
        "        ft.get_sentence_vector(sent1),\n",
        "        ft.get_sentence_vector(sent2)\n",
        "    )))\n",
        "    y.append(label)\n",
        "\n",
        "  return x, y\n",
        "\n",
        "train_df, test_df, val_df = load_data()"
      ],
      "execution_count": 3,
      "outputs": []
    },
    {
      "cell_type": "code",
      "metadata": {
        "id": "Jr1KgkbuG0Ji"
      },
      "source": [
        "train_x, train_y = process_dataset(train_df)\n",
        "test_x, test_y = process_dataset(test_df)\n",
        "val_x, val_y = process_dataset(val_df)"
      ],
      "execution_count": 4,
      "outputs": []
    },
    {
      "cell_type": "code",
      "metadata": {
        "colab": {
          "base_uri": "https://localhost:8080/"
        },
        "id": "kid8Cko86DR7",
        "outputId": "947c4c81-ea7f-4d44-ba96-efe1d7f41307"
      },
      "source": [
        "model = SVC()\n",
        "model.fit(train_x, train_y)"
      ],
      "execution_count": 7,
      "outputs": [
        {
          "output_type": "execute_result",
          "data": {
            "text/plain": [
              "SVC()"
            ]
          },
          "metadata": {},
          "execution_count": 7
        }
      ]
    },
    {
      "cell_type": "code",
      "metadata": {
        "id": "LhqZVStN8Ql8"
      },
      "source": [
        "def report(model, x, y):\n",
        "  preds = model.predict(x)\n",
        "  print(classification_report(y, preds))"
      ],
      "execution_count": 8,
      "outputs": []
    },
    {
      "cell_type": "code",
      "metadata": {
        "colab": {
          "base_uri": "https://localhost:8080/"
        },
        "id": "sgufhyCg8RMj",
        "outputId": "0d758e92-7460-48d2-e207-8fd1898d1774"
      },
      "source": [
        "print(\"Val Performance:\")\n",
        "report(model, val_x, val_y)\n",
        "print(\"Test Performance:\")\n",
        "report(model, test_x, test_y)"
      ],
      "execution_count": 10,
      "outputs": [
        {
          "output_type": "stream",
          "name": "stdout",
          "text": [
            "Val Performance:\n",
            "              precision    recall  f1-score   support\n",
            "\n",
            "           0       0.66      0.91      0.77       872\n",
            "           1       0.72      0.33      0.45       602\n",
            "\n",
            "    accuracy                           0.67      1474\n",
            "   macro avg       0.69      0.62      0.61      1474\n",
            "weighted avg       0.69      0.67      0.64      1474\n",
            "\n",
            "Test Performance:\n",
            "              precision    recall  f1-score   support\n",
            "\n",
            "           0       0.70      0.91      0.80       823\n",
            "           1       0.78      0.44      0.57       571\n",
            "\n",
            "    accuracy                           0.72      1394\n",
            "   macro avg       0.74      0.68      0.68      1394\n",
            "weighted avg       0.74      0.72      0.70      1394\n",
            "\n"
          ]
        }
      ]
    }
  ]
}