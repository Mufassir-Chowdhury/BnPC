{
  "nbformat": 4,
  "nbformat_minor": 0,
  "metadata": {
    "colab": {
      "name": "BNPP: Word Embedding + Logistic Regression",
      "provenance": [],
      "collapsed_sections": [],
      "authorship_tag": "ABX9TyPqykd8qehM2tu5p6I4gdwP",
      "include_colab_link": true
    },
    "kernelspec": {
      "name": "python3",
      "display_name": "Python 3"
    },
    "language_info": {
      "name": "python"
    }
  },
  "cells": [
    {
      "cell_type": "markdown",
      "metadata": {
        "id": "view-in-github",
        "colab_type": "text"
      },
      "source": [
        "<a href=\"https://colab.research.google.com/github/KhanShaheb34/Bangla-Paraphrase-Identification/blob/master/models/Word_Embedding_%2B_Logistic_Regression.ipynb\" target=\"_parent\"><img src=\"https://colab.research.google.com/assets/colab-badge.svg\" alt=\"Open In Colab\"/></a>"
      ]
    },
    {
      "cell_type": "code",
      "metadata": {
        "colab": {
          "base_uri": "https://localhost:8080/"
        },
        "id": "5O93BBQ26AZE",
        "outputId": "329c4f80-2d95-404e-a082-307459a0e414"
      },
      "source": [
        "! gdown --id 11xhgSz6-NLohgyvxdPSXeBuaBy_l0ygS\n",
        "! tar -xf bn_w2v_model_text.tar.gz"
      ],
      "execution_count": 2,
      "outputs": [
        {
          "output_type": "stream",
          "text": [
            "Downloading...\n",
            "From: https://drive.google.com/uc?id=11xhgSz6-NLohgyvxdPSXeBuaBy_l0ygS\n",
            "To: /content/bn_w2v_model_text.tar.gz\n",
            "566MB [00:04, 122MB/s]\n"
          ],
          "name": "stdout"
        }
      ]
    },
    {
      "cell_type": "code",
      "metadata": {
        "colab": {
          "base_uri": "https://localhost:8080/"
        },
        "id": "PHazZa9V6In2",
        "outputId": "96a7c73f-ff4f-40c6-e767-d8048ecbc6c2"
      },
      "source": [
        "! gdown --id 1QKGpjiFbrmSyWEMp7noUu3-mEIadblKO\n",
        "! unzip Dataset.zip"
      ],
      "execution_count": 3,
      "outputs": [
        {
          "output_type": "stream",
          "text": [
            "Downloading...\n",
            "From: https://drive.google.com/uc?id=1QKGpjiFbrmSyWEMp7noUu3-mEIadblKO\n",
            "To: /content/Dataset.zip\n",
            "\r  0% 0.00/363k [00:00<?, ?B/s]\r100% 363k/363k [00:00<00:00, 24.1MB/s]\n",
            "Archive:  Dataset.zip\n",
            "  inflating: test.csv                \n",
            "  inflating: train.csv               \n",
            "  inflating: val.csv                 \n"
          ],
          "name": "stdout"
        }
      ]
    },
    {
      "cell_type": "code",
      "metadata": {
        "id": "bwiKtHdn7Iw3"
      },
      "source": [
        "from gensim.models import KeyedVectors\n",
        "import pandas as pd\n",
        "import numpy as np\n",
        "import re\n",
        "from sklearn.metrics.pairwise import cosine_similarity\n",
        "import matplotlib.pyplot as plt\n",
        "from sklearn.linear_model import LogisticRegression\n",
        "from sklearn.metrics import accuracy_score, f1_score"
      ],
      "execution_count": 4,
      "outputs": []
    },
    {
      "cell_type": "code",
      "metadata": {
        "id": "kQxsvmOv7ejj"
      },
      "source": [
        "model = KeyedVectors.load_word2vec_format('/content/model/bn_w2v_model.text', binary=False)\n",
        "words = model.most_similar(positive=['প্রধানমন্ত্রী'], negative=[], topn=10)"
      ],
      "execution_count": 5,
      "outputs": []
    },
    {
      "cell_type": "code",
      "metadata": {
        "id": "WmrLCfqR7ikL"
      },
      "source": [
        "train_df = pd.read_csv('train.csv')\n",
        "test_df = pd.read_csv('test.csv')\n",
        "val_df = pd.read_csv('val.csv')"
      ],
      "execution_count": 6,
      "outputs": []
    },
    {
      "cell_type": "code",
      "metadata": {
        "id": "CU4Z0KsvJ7P3"
      },
      "source": [
        "def remove_nnp(sentence):\n",
        "  return re.sub(r'[^ঀ-ৣ ]', '', sentence).strip()\n",
        "\n",
        "def get_word_vec(sentence):\n",
        "  temp_vec = []\n",
        "\n",
        "  for word in sentence.split():\n",
        "    try:\n",
        "      word_vec = model.get_vector(word)\n",
        "      temp_vec.append(word_vec)\n",
        "    except:\n",
        "      pass\n",
        "  \n",
        "  return temp_vec"
      ],
      "execution_count": 7,
      "outputs": []
    },
    {
      "cell_type": "code",
      "metadata": {
        "id": "AAloyqSGDWDh"
      },
      "source": [
        "def get_x_y(df):\n",
        "  cosine_sims = []\n",
        "  labels = []\n",
        "\n",
        "  sentence1 = [remove_nnp(data) for data in df.sentence1]\n",
        "  sentence2 = [remove_nnp(data) for data in df.sentence2]\n",
        "\n",
        "  for sent1, sent2, label in zip(sentence1, sentence2, df.label):\n",
        "    temp_vec1 = get_word_vec(sent1)\n",
        "    temp_vec2 = get_word_vec(sent2)\n",
        "\n",
        "    try:\n",
        "      doc_vec1 = np.array(temp_vec1).mean(0)\n",
        "      doc_vec2 = np.array(temp_vec2).mean(0)\n",
        "\n",
        "      cosine_sim = cosine_similarity([doc_vec1], [doc_vec2]).min()\n",
        "      cosine_sims.append(cosine_sim)\n",
        "      labels.append(label)\n",
        "    except:\n",
        "      pass\n",
        "  print(\"Correct data count: \", len(labels))\n",
        "\n",
        "  cosine_sims_df = pd.DataFrame({'cosine_sim': cosine_sims, 'label': labels})\n",
        "  cosine_sims_df.plot.scatter(x='cosine_sim', y='label')\n",
        "\n",
        "  X = cosine_sims_df.cosine_sim.to_numpy().reshape(len(labels), 1)\n",
        "  y = cosine_sims_df.label.to_numpy()\n",
        "\n",
        "  return X, y"
      ],
      "execution_count": 18,
      "outputs": []
    },
    {
      "cell_type": "code",
      "metadata": {
        "colab": {
          "base_uri": "https://localhost:8080/",
          "height": 1000
        },
        "id": "iqmPefrjNknw",
        "outputId": "106ec38b-f26b-4bee-e48b-6cc46e8f5861"
      },
      "source": [
        "train_x, train_y = get_x_y(train_df)\n",
        "test_x, test_y = get_x_y(test_df)\n",
        "val_x, val_y = get_x_y(val_df)"
      ],
      "execution_count": 19,
      "outputs": [
        {
          "output_type": "stream",
          "text": [
            "/usr/local/lib/python3.7/dist-packages/ipykernel_launcher.py:14: RuntimeWarning: Mean of empty slice.\n",
            "  \n",
            "/usr/local/lib/python3.7/dist-packages/numpy/core/_methods.py:170: RuntimeWarning: invalid value encountered in double_scalars\n",
            "  ret = ret.dtype.type(ret / rcount)\n",
            "/usr/local/lib/python3.7/dist-packages/ipykernel_launcher.py:14: RuntimeWarning: Mean of empty slice.\n",
            "  \n",
            "/usr/local/lib/python3.7/dist-packages/numpy/core/_methods.py:170: RuntimeWarning: invalid value encountered in double_scalars\n",
            "  ret = ret.dtype.type(ret / rcount)\n",
            "/usr/local/lib/python3.7/dist-packages/ipykernel_launcher.py:14: RuntimeWarning: Mean of empty slice.\n",
            "  \n",
            "/usr/local/lib/python3.7/dist-packages/numpy/core/_methods.py:170: RuntimeWarning: invalid value encountered in double_scalars\n",
            "  ret = ret.dtype.type(ret / rcount)\n",
            "/usr/local/lib/python3.7/dist-packages/ipykernel_launcher.py:14: RuntimeWarning: Mean of empty slice.\n",
            "  \n",
            "/usr/local/lib/python3.7/dist-packages/numpy/core/_methods.py:170: RuntimeWarning: invalid value encountered in double_scalars\n",
            "  ret = ret.dtype.type(ret / rcount)\n",
            "/usr/local/lib/python3.7/dist-packages/ipykernel_launcher.py:14: RuntimeWarning: Mean of empty slice.\n",
            "  \n",
            "/usr/local/lib/python3.7/dist-packages/numpy/core/_methods.py:170: RuntimeWarning: invalid value encountered in double_scalars\n",
            "  ret = ret.dtype.type(ret / rcount)\n"
          ],
          "name": "stderr"
        },
        {
          "output_type": "stream",
          "text": [
            "Correct data count:  5908\n",
            "Correct data count:  1394\n",
            "Correct data count:  1480\n"
          ],
          "name": "stdout"
        },
        {
          "output_type": "display_data",
          "data": {
            "image/png": "[encoded data removed]",
            "text/plain": [
              "<Figure size 432x288 with 1 Axes>"
            ]
          },
          "metadata": {
            "tags": [],
            "needs_background": "light"
          }
        },
        {
          "output_type": "display_data",
          "data": {
            "image/png": "[encoded data removed]",
            "text/plain": [
              "<Figure size 432x288 with 1 Axes>"
            ]
          },
          "metadata": {
            "tags": [],
            "needs_background": "light"
          }
        },
        {
          "output_type": "display_data",
          "data": {
            "image/png": "[encoded data removed]",
            "text/plain": [
              "<Figure size 432x288 with 1 Axes>"
            ]
          },
          "metadata": {
            "tags": [],
            "needs_background": "light"
          }
        }
      ]
    },
    {
      "cell_type": "code",
      "metadata": {
        "colab": {
          "base_uri": "https://localhost:8080/"
        },
        "id": "77Az5VL4VXNY",
        "outputId": "e11a4cd2-68e6-4207-a52b-ad4a9e850561"
      },
      "source": [
        "classifier = LogisticRegression().fit(train_x, train_y)\n",
        "train_score = classifier.score(train_x, train_y)\n",
        "val_score = classifier.score(val_x, val_y)\n",
        "test_score = classifier.score(test_x, test_y)\n",
        "\n",
        "print(\"Train score:\", train_score)\n",
        "print(\"Val score:  \", val_score)\n",
        "print(\"Test score: \", test_score)"
      ],
      "execution_count": 22,
      "outputs": [
        {
          "output_type": "stream",
          "text": [
            "Train score: 0.7718348002708192\n",
            "Val score:   0.7824324324324324\n",
            "Test score:  0.7682926829268293\n"
          ],
          "name": "stdout"
        }
      ]
    },
    {
      "cell_type": "code",
      "metadata": {
        "colab": {
          "base_uri": "https://localhost:8080/"
        },
        "id": "vlYv4ZiBVrt_",
        "outputId": "1c763046-8eb8-4332-fa17-9b3e49513a8f"
      },
      "source": [
        "test_preds = classifier.predict(test_x)\n",
        "acc = accuracy_score(test_y, test_preds)\n",
        "f1 = f1_score(test_y, test_preds)\n",
        "\n",
        "print(\"Test Accuracy:\", acc)\n",
        "print(\"Test F1 Score:\", f1)"
      ],
      "execution_count": 23,
      "outputs": [
        {
          "output_type": "stream",
          "text": [
            "Test Accuracy: 0.7682926829268293\n",
            "Test F1 Score: 0.6920877025738799\n"
          ],
          "name": "stdout"
        }
      ]
    }
  ]
}